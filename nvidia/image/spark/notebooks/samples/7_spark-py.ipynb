{
 "cells": [
  {
   "cell_type": "code",
   "execution_count": 1,
   "metadata": {},
   "outputs": [],
   "source": [
    "import os \n",
    "import sys\n",
    "SPH='/usr/local/spark'\n",
    "HM='/home/jovyan'\n",
    "os.environ['SPARK_HOME']='/usr/local/spark'\n",
    "os.environ['HOME']=HM\n",
    "os.environ['HADOOP_CONF_DIR']=HM+'/conf.cloudera.yarn'\n",
    "os.environ['YARN_CONF_DIR']=HM+'/conf.cloudera.yarn'\n",
    "\n",
    "os.environ['HIVE_CONF_DIR']=HM+'/hive'\n",
    "\n",
    "\n",
    "os.environ['SPARK_HOME']=SPH\n",
    "os.environ['PATH']=os.environ['PATH']+':'+SPH+'/bin'\n",
    "\n",
    "os.environ['SPARK_CONF_DIR']=SPH+'/conf'\n",
    "os.environ['HADOOP_USER_NAME']='shd_010'\n",
    "os.environ['PYSPARK_PYTHON']='/shcsw/anaconda3/bin/python'\n",
    "os.environ['PYSPARK_DRIVER_PYTHON']='/opt/conda/bin/python'\n",
    "os.environ['SPARK_YARN_USER_ENV']='PYSPARK_PYTHON=/shcsw/anaconda3/bin/python'\n",
    "os.environ['SPARK_DRIVER_MEMORY']='50g'\n",
    "os.environ['SPARK_EXECUTOR_MEMORY']='20g'\n",
    "os.environ['SPARK_DRIVER_CORES']='8'\n",
    "os.environ['SPARK_EXECUTOR_CORES']='4'\n",
    "os.environ['SPARK_DYNAMIC_ALLOCATION']='true'"
   ]
  },
  {
   "cell_type": "code",
   "execution_count": 2,
   "metadata": {
    "scrolled": false
   },
   "outputs": [
    {
     "name": "stdout",
     "output_type": "stream",
     "text": [
      "[(0, 0), (1, 1), (2, 0), (3, 1), (4, 0), (5, 1), (6, 0), (7, 1), (8, 0), (9, 1)]\n",
      "+--------+--------------------+-----------+\n",
      "|database|           tableName|isTemporary|\n",
      "+--------+--------------------+-----------+\n",
      "| default|hsmctb1005_tmp_3m...|      false|\n",
      "| default|hsmctb1005_tmp_3m...|      false|\n",
      "| default|      partition_test|      false|\n",
      "| default|         tb_testview|      false|\n",
      "| default|        tb_testview1|      false|\n",
      "| default|            test_new|      false|\n",
      "| default|            web_logs|      false|\n",
      "+--------+--------------------+-----------+\n",
      "\n"
     ]
    }
   ],
   "source": [
    "\n",
    "\n",
    "from pyspark import SparkConf\n",
    "from pyspark import SparkContext\n",
    "\n",
    "conf = SparkConf()\n",
    "conf.setAppName('datalab connection test')\n",
    "sc = SparkContext(conf=conf)\n",
    "\n",
    "def mod(x):\n",
    "    import numpy as np\n",
    "    return (x, np.mod(x, 2))\n",
    "\n",
    "rdd = sc.parallelize(range(1000)).map(mod).take(10)\n",
    "print (rdd)\n",
    "\n",
    "from pyspark.sql import SparkSession\n",
    "import numpy as np\n",
    "\n",
    "D = 10\n",
    "spark = SparkSession.builder.appName('datalab connection test').getOrCreate()\n",
    "spark.sql(\"show tables\").show()"
   ]
  },
  {
   "cell_type": "code",
   "execution_count": 4,
   "metadata": {},
   "outputs": [
    {
     "name": "stdout",
     "output_type": "stream",
     "text": [
      "+---------------+--------+\n",
      "|bgda_plf_pti_id|count(1)|\n",
      "+---------------+--------+\n",
      "|      201901279|  576373|\n",
      "|      201901111| 1717304|\n",
      "|      201901052| 1123555|\n",
      "|      201901275|  741587|\n",
      "|      201901025|  939074|\n",
      "|      201901068|  582503|\n",
      "|      201901271| 1401135|\n",
      "|      201901268|  798000|\n",
      "|      201901019|  782195|\n",
      "|      201901228| 1041426|\n",
      "|      201901242| 1261469|\n",
      "|      201901085|  977240|\n",
      "|      201901201| 1393088|\n",
      "|      201901168|  994727|\n",
      "|      201901199|  659073|\n",
      "|      201901102| 1274912|\n",
      "|      201901203|  909818|\n",
      "|      201901034| 1517915|\n",
      "|      201901164| 1194358|\n",
      "|      201901044| 1033220|\n",
      "+---------------+--------+\n",
      "only showing top 20 rows\n",
      "\n"
     ]
    }
   ],
   "source": [
    "spark.sql(\"select bgda_plf_pti_id, count(*) from edb.hsmctb1005 where bgda_plf_pti_id >= '201901000' group by bgda_plf_pti_id\").show()"
   ]
  },
  {
   "cell_type": "code",
   "execution_count": null,
   "metadata": {},
   "outputs": [],
   "source": []
  }
 ],
 "metadata": {
  "kernelspec": {
   "display_name": "Python 3",
   "language": "python",
   "name": "python3"
  },
  "language_info": {
   "codemirror_mode": {
    "name": "ipython",
    "version": 3
   },
   "file_extension": ".py",
   "mimetype": "text/x-python",
   "name": "python",
   "nbconvert_exporter": "python",
   "pygments_lexer": "ipython3",
   "version": "3.6.6"
  }
 },
 "nbformat": 4,
 "nbformat_minor": 2
}
