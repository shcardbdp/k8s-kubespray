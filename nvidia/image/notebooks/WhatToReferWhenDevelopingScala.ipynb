{
 "cells": [
  {
   "cell_type": "markdown",
   "metadata": {},
   "source": [
    "[SparkSession 생성시에 아래 코드 추가]"
   ]
  },
  {
   "cell_type": "markdown",
   "metadata": {},
   "source": [
    "import os \n",
    "from pyspark.sql import SparkSession "
   ]
  },
  {
   "cell_type": "markdown",
   "metadata": {},
   "source": [
    "SparkSession.builder.config(\"spark.driver.port\", os.environ['SPARK_DRIVER_PORT']) \\\n",
    "  .config(\"spark.driver.blockmanager.port\", os.environ['SPARK_DRIVER_BLOCKMANGER_PORT']) \\\n",
    "  .config(\"spark.port.maxRetries\", os.environ['SPARK_PORT_MAXRETRIES']) \\\n",
    "  ...\n",
    "  .getOrCreate()"
   ]
  }
 ],
 "metadata": {
  "kernelspec": {
   "display_name": "Python 3",
   "language": "python",
   "name": "python3"
  },
  "language_info": {
   "codemirror_mode": {
    "name": "ipython",
    "version": 3
   },
   "file_extension": ".py",
   "mimetype": "text/x-python",
   "name": "python",
   "nbconvert_exporter": "python",
   "pygments_lexer": "ipython3",
   "version": "3.6.8"
  }
 },
 "nbformat": 4,
 "nbformat_minor": 2
}
