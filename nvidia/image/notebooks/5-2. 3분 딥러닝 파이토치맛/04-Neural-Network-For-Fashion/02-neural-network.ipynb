{
 "cells": [
  {
   "cell_type": "markdown",
   "metadata": {},
   "source": [
    "# 4.2 뉴럴넷으로 패션 아이템 구분하기\n",
    "Fashion MNIST 데이터셋과 앞서 배운 인공신경망을 이용하여 패션아이템을 구분해봅니다."
   ]
  },
  {
   "cell_type": "code",
   "execution_count": 1,
   "metadata": {},
   "outputs": [],
   "source": [
    "import torch\n",
    "import torch.nn as nn\n",
    "import torch.optim as optim\n",
    "import torch.nn.functional as F\n",
    "from torchvision import transforms, datasets"
   ]
  },
  {
   "cell_type": "code",
   "execution_count": 2,
   "metadata": {},
   "outputs": [],
   "source": [
    "torch.manual_seed(42)\n",
    "USE_CUDA = torch.cuda.is_available()\n",
    "DEVICE = torch.device(\"cuda\" if USE_CUDA else \"cpu\")"
   ]
  },
  {
   "cell_type": "code",
   "execution_count": 3,
   "metadata": {},
   "outputs": [],
   "source": [
    "EPOCHS = 20\n",
    "BATCH_SIZE = 64"
   ]
  },
  {
   "cell_type": "markdown",
   "metadata": {},
   "source": [
    "## 데이터셋 불러오기"
   ]
  },
  {
   "cell_type": "code",
   "execution_count": 4,
   "metadata": {},
   "outputs": [],
   "source": [
    "transform = transforms.Compose([\n",
    "    transforms.ToTensor()\n",
    "])"
   ]
  },
  {
   "cell_type": "code",
   "execution_count": 5,
   "metadata": {},
   "outputs": [],
   "source": [
    "trainset = datasets.FashionMNIST(\n",
    "    root      = './.data/', \n",
    "    train     = True,\n",
    "    download  = True,\n",
    "    transform = transform\n",
    ")\n",
    "testset = datasets.FashionMNIST(\n",
    "    root      = './.data/', \n",
    "    train     = False,\n",
    "    download  = True,\n",
    "    transform = transform\n",
    ")\n",
    "\n",
    "train_loader = torch.utils.data.DataLoader(\n",
    "    dataset     = trainset,\n",
    "    batch_size  = BATCH_SIZE,\n",
    "    shuffle     = True,\n",
    ")\n",
    "test_loader = torch.utils.data.DataLoader(\n",
    "    dataset     = testset,\n",
    "    batch_size  = BATCH_SIZE,\n",
    "    shuffle     = True,\n",
    ")"
   ]
  },
  {
   "cell_type": "markdown",
   "metadata": {},
   "source": [
    "## 뉴럴넷으로 Fashion MNIST 학습하기\n",
    "\n",
    "입력 `x` 는 `[배치크기, 색, 높이, 넓이]`로 이루어져 있습니다.\n",
    "`x.size()`를 해보면 `[64, 1, 28, 28]`이라고 표시되는 것을 보실 수 있습니다.\n",
    "Fashion MNIST에서 이미지의 크기는 28 x 28, 색은 흑백으로 1 가지 입니다.\n",
    "그러므로 입력 x의 총 특성값 갯수는 28 x 28 x 1, 즉 784개 입니다.\n",
    "\n",
    "우리가 사용할 모델은 3개의 레이어를 가진 뉴럴네트워크 입니다. "
   ]
  },
  {
   "cell_type": "code",
   "execution_count": 6,
   "metadata": {},
   "outputs": [],
   "source": [
    "class Net(nn.Module):\n",
    "    def __init__(self):\n",
    "        super(Net, self).__init__()\n",
    "        self.fc1 = nn.Linear(784, 256)\n",
    "        self.fc2 = nn.Linear(256, 128)\n",
    "        self.fc3 = nn.Linear(128, 10)\n",
    "\n",
    "    def forward(self, x):\n",
    "        x = x.view(-1, 784)\n",
    "        x = F.relu(self.fc1(x))\n",
    "        x = F.relu(self.fc2(x))\n",
    "        x = self.fc3(x)\n",
    "        return x"
   ]
  },
  {
   "cell_type": "markdown",
   "metadata": {},
   "source": [
    "## 모델 준비하기\n",
    "\n",
    "`to()` 함수는 모델의 파라미터들을 지정한 곳으로 보내는 역할을 합니다.\n",
    "일반적으로 CPU 1개만 사용할 경우 필요는 없지만,\n",
    "GPU를 사용하고자 하는 경우 `to(\"cuda\")`로 지정하여 GPU로 보내야 합니다.\n",
    "지정하지 않을 경우 계속 CPU에 남아 있게 되며 빠른 훈련의 이점을 누리실 수 없습니다.\n",
    "\n",
    "최적화 알고리즘으로 파이토치에 내장되어 있는 `optim.SGD`를 사용하겠습니다."
   ]
  },
  {
   "cell_type": "code",
   "execution_count": 7,
   "metadata": {},
   "outputs": [],
   "source": [
    "model        = Net().to(DEVICE)\n",
    "optimizer    = optim.SGD(model.parameters(), lr=0.01)"
   ]
  },
  {
   "cell_type": "markdown",
   "metadata": {},
   "source": [
    "## 훈련하기"
   ]
  },
  {
   "cell_type": "code",
   "execution_count": 8,
   "metadata": {},
   "outputs": [],
   "source": [
    "def train(model, train_loader, optimizer, epoch):\n",
    "    model.train()\n",
    "    for batch_idx, (data, target) in enumerate(train_loader):\n",
    "        data, target = data.to(DEVICE), target.to(DEVICE)\n",
    "        optimizer.zero_grad()\n",
    "        output = model(data)\n",
    "        loss = F.cross_entropy(output, target)\n",
    "        loss.backward()\n",
    "        optimizer.step()\n",
    "\n",
    "        if batch_idx % 200 == 0:\n",
    "            print('Train Epoch: {} [{}/{} ({:.0f}%)]\\tLoss: {:.6f}'.format(\n",
    "                epoch, batch_idx * len(data), len(train_loader.dataset),\n",
    "                100. * batch_idx / len(train_loader), loss.item()))"
   ]
  },
  {
   "cell_type": "markdown",
   "metadata": {},
   "source": [
    "## 테스트하기\n",
    "\n",
    "아무리 훈련이 잘 되었다고 해도 실제 데이터를 만났을때 성능이 낮다면 쓸모 없는 모델일 것입니다.\n",
    "우리가 진정 원하는 것은 훈련 데이터에 최적화한 모델이 아니라 모든 데이터에서 높은 성능을 보이는 모델이기 때문입니다.\n",
    "세상에 존재하는 모든 데이터에 최적화 하는 것을 \"일반화\"라고 부르고\n",
    "모델이 얼마나 실제 데이터에 적응하는지를 수치로 나타낸 것을 \"일반화 오류\"(Generalization Error) 라고 합니다. \n",
    "\n",
    "우리가 만든 모델이 얼마나 일반화를 잘 하는지 알아보기 위해,\n",
    "그리고 언제 훈련을 멈추어야 할지 알기 위해\n",
    "매 이포크가 끝날때 마다 테스트셋으로 모델의 성능을 측정해보겠습니다."
   ]
  },
  {
   "cell_type": "code",
   "execution_count": 9,
   "metadata": {},
   "outputs": [],
   "source": [
    "def test(model, test_loader):\n",
    "    model.eval()\n",
    "    test_loss = 0\n",
    "    correct = 0\n",
    "    with torch.no_grad():\n",
    "        for data, target in test_loader:\n",
    "            data, target = data.to(DEVICE), target.to(DEVICE)\n",
    "            output = model(data)\n",
    "\n",
    "            # sum up batch loss\n",
    "            test_loss += F.cross_entropy(output, target,\n",
    "                                         size_average=False).item()\n",
    "            \n",
    "            # get the index of the max log-probability\n",
    "            pred = output.max(1, keepdim=True)[1]\n",
    "            correct += pred.eq(target.view_as(pred)).sum().item()\n",
    "\n",
    "    test_loss /= len(test_loader.dataset)\n",
    "    test_accuracy = 100. * correct / len(test_loader.dataset)\n",
    "    return test_loss, test_accuracy"
   ]
  },
  {
   "cell_type": "markdown",
   "metadata": {},
   "source": [
    "## 코드 돌려보기\n",
    "\n",
    "자, 이제 모든 준비가 끝났습니다. 코드를 돌려서 실제로 훈련이 되는지 확인해봅시다!"
   ]
  },
  {
   "cell_type": "code",
   "execution_count": 10,
   "metadata": {},
   "outputs": [
    {
     "name": "stdout",
     "output_type": "stream",
     "text": [
      "Train Epoch: 1 [0/60000 (0%)]\tLoss: 2.304437\n",
      "Train Epoch: 1 [12800/60000 (21%)]\tLoss: 2.227375\n",
      "Train Epoch: 1 [25600/60000 (43%)]\tLoss: 1.982917\n",
      "Train Epoch: 1 [38400/60000 (64%)]\tLoss: 1.475527\n",
      "Train Epoch: 1 [51200/60000 (85%)]\tLoss: 0.894861\n",
      "[1] Test Loss: 0.7465, Accuracy: 82.58%\n",
      "Train Epoch: 2 [0/60000 (0%)]\tLoss: 0.903040\n",
      "Train Epoch: 2 [12800/60000 (21%)]\tLoss: 0.483391\n",
      "Train Epoch: 2 [25600/60000 (43%)]\tLoss: 0.611188\n",
      "Train Epoch: 2 [38400/60000 (64%)]\tLoss: 0.474139\n",
      "Train Epoch: 2 [51200/60000 (85%)]\tLoss: 0.361451\n",
      "[2] Test Loss: 0.4155, Accuracy: 88.34%\n",
      "Train Epoch: 3 [0/60000 (0%)]\tLoss: 0.729169\n",
      "Train Epoch: 3 [12800/60000 (21%)]\tLoss: 0.431383\n",
      "Train Epoch: 3 [25600/60000 (43%)]\tLoss: 0.367140\n",
      "Train Epoch: 3 [38400/60000 (64%)]\tLoss: 0.289560\n",
      "Train Epoch: 3 [51200/60000 (85%)]\tLoss: 0.540734\n",
      "[3] Test Loss: 0.3473, Accuracy: 90.00%\n",
      "Train Epoch: 4 [0/60000 (0%)]\tLoss: 0.422233\n",
      "Train Epoch: 4 [12800/60000 (21%)]\tLoss: 0.222322\n",
      "Train Epoch: 4 [25600/60000 (43%)]\tLoss: 0.298619\n",
      "Train Epoch: 4 [38400/60000 (64%)]\tLoss: 0.433186\n",
      "Train Epoch: 4 [51200/60000 (85%)]\tLoss: 0.589228\n",
      "[4] Test Loss: 0.3108, Accuracy: 91.10%\n",
      "Train Epoch: 5 [0/60000 (0%)]\tLoss: 0.422999\n",
      "Train Epoch: 5 [12800/60000 (21%)]\tLoss: 0.266815\n",
      "Train Epoch: 5 [25600/60000 (43%)]\tLoss: 0.311641\n",
      "Train Epoch: 5 [38400/60000 (64%)]\tLoss: 0.300602\n",
      "Train Epoch: 5 [51200/60000 (85%)]\tLoss: 0.300490\n",
      "[5] Test Loss: 0.2894, Accuracy: 91.78%\n",
      "Train Epoch: 6 [0/60000 (0%)]\tLoss: 0.235929\n",
      "Train Epoch: 6 [12800/60000 (21%)]\tLoss: 0.222314\n",
      "Train Epoch: 6 [25600/60000 (43%)]\tLoss: 0.197358\n",
      "Train Epoch: 6 [38400/60000 (64%)]\tLoss: 0.244315\n",
      "Train Epoch: 6 [51200/60000 (85%)]\tLoss: 0.306562\n",
      "[6] Test Loss: 0.2698, Accuracy: 92.14%\n",
      "Train Epoch: 7 [0/60000 (0%)]\tLoss: 0.200137\n",
      "Train Epoch: 7 [12800/60000 (21%)]\tLoss: 0.258287\n",
      "Train Epoch: 7 [25600/60000 (43%)]\tLoss: 0.266378\n",
      "Train Epoch: 7 [38400/60000 (64%)]\tLoss: 0.203062\n",
      "Train Epoch: 7 [51200/60000 (85%)]\tLoss: 0.150239\n",
      "[7] Test Loss: 0.2533, Accuracy: 92.82%\n",
      "Train Epoch: 8 [0/60000 (0%)]\tLoss: 0.243388\n",
      "Train Epoch: 8 [12800/60000 (21%)]\tLoss: 0.279029\n",
      "Train Epoch: 8 [25600/60000 (43%)]\tLoss: 0.365382\n",
      "Train Epoch: 8 [38400/60000 (64%)]\tLoss: 0.225877\n",
      "Train Epoch: 8 [51200/60000 (85%)]\tLoss: 0.141756\n",
      "[8] Test Loss: 0.2380, Accuracy: 93.15%\n",
      "Train Epoch: 9 [0/60000 (0%)]\tLoss: 0.149094\n",
      "Train Epoch: 9 [12800/60000 (21%)]\tLoss: 0.262485\n",
      "Train Epoch: 9 [25600/60000 (43%)]\tLoss: 0.260431\n",
      "Train Epoch: 9 [38400/60000 (64%)]\tLoss: 0.195173\n",
      "Train Epoch: 9 [51200/60000 (85%)]\tLoss: 0.263135\n",
      "[9] Test Loss: 0.2278, Accuracy: 93.50%\n",
      "Train Epoch: 10 [0/60000 (0%)]\tLoss: 0.177255\n",
      "Train Epoch: 10 [12800/60000 (21%)]\tLoss: 0.201979\n",
      "Train Epoch: 10 [25600/60000 (43%)]\tLoss: 0.116959\n",
      "Train Epoch: 10 [38400/60000 (64%)]\tLoss: 0.330033\n",
      "Train Epoch: 10 [51200/60000 (85%)]\tLoss: 0.353522\n",
      "[10] Test Loss: 0.2148, Accuracy: 93.91%\n",
      "Train Epoch: 11 [0/60000 (0%)]\tLoss: 0.261565\n",
      "Train Epoch: 11 [12800/60000 (21%)]\tLoss: 0.161238\n",
      "Train Epoch: 11 [25600/60000 (43%)]\tLoss: 0.263850\n",
      "Train Epoch: 11 [38400/60000 (64%)]\tLoss: 0.143608\n",
      "Train Epoch: 11 [51200/60000 (85%)]\tLoss: 0.135988\n",
      "[11] Test Loss: 0.2013, Accuracy: 94.01%\n",
      "Train Epoch: 12 [0/60000 (0%)]\tLoss: 0.224298\n",
      "Train Epoch: 12 [12800/60000 (21%)]\tLoss: 0.137181\n",
      "Train Epoch: 12 [25600/60000 (43%)]\tLoss: 0.247515\n",
      "Train Epoch: 12 [38400/60000 (64%)]\tLoss: 0.341607\n",
      "Train Epoch: 12 [51200/60000 (85%)]\tLoss: 0.328232\n",
      "[12] Test Loss: 0.1906, Accuracy: 94.32%\n",
      "Train Epoch: 13 [0/60000 (0%)]\tLoss: 0.134893\n",
      "Train Epoch: 13 [12800/60000 (21%)]\tLoss: 0.134292\n",
      "Train Epoch: 13 [25600/60000 (43%)]\tLoss: 0.232267\n",
      "Train Epoch: 13 [38400/60000 (64%)]\tLoss: 0.383422\n",
      "Train Epoch: 13 [51200/60000 (85%)]\tLoss: 0.145729\n",
      "[13] Test Loss: 0.1871, Accuracy: 94.57%\n",
      "Train Epoch: 14 [0/60000 (0%)]\tLoss: 0.209971\n",
      "Train Epoch: 14 [12800/60000 (21%)]\tLoss: 0.131140\n",
      "Train Epoch: 14 [25600/60000 (43%)]\tLoss: 0.218684\n",
      "Train Epoch: 14 [38400/60000 (64%)]\tLoss: 0.186877\n",
      "Train Epoch: 14 [51200/60000 (85%)]\tLoss: 0.128308\n",
      "[14] Test Loss: 0.1756, Accuracy: 94.86%\n",
      "Train Epoch: 15 [0/60000 (0%)]\tLoss: 0.223753\n",
      "Train Epoch: 15 [12800/60000 (21%)]\tLoss: 0.144715\n",
      "Train Epoch: 15 [25600/60000 (43%)]\tLoss: 0.211008\n",
      "Train Epoch: 15 [38400/60000 (64%)]\tLoss: 0.247066\n",
      "Train Epoch: 15 [51200/60000 (85%)]\tLoss: 0.155979\n",
      "[15] Test Loss: 0.1672, Accuracy: 95.05%\n",
      "Train Epoch: 16 [0/60000 (0%)]\tLoss: 0.271273\n",
      "Train Epoch: 16 [12800/60000 (21%)]\tLoss: 0.143092\n",
      "Train Epoch: 16 [25600/60000 (43%)]\tLoss: 0.148368\n",
      "Train Epoch: 16 [38400/60000 (64%)]\tLoss: 0.260529\n",
      "Train Epoch: 16 [51200/60000 (85%)]\tLoss: 0.118180\n",
      "[16] Test Loss: 0.1595, Accuracy: 95.22%\n",
      "Train Epoch: 17 [0/60000 (0%)]\tLoss: 0.166883\n",
      "Train Epoch: 17 [12800/60000 (21%)]\tLoss: 0.141381\n",
      "Train Epoch: 17 [25600/60000 (43%)]\tLoss: 0.224895\n",
      "Train Epoch: 17 [38400/60000 (64%)]\tLoss: 0.107485\n",
      "Train Epoch: 17 [51200/60000 (85%)]\tLoss: 0.049170\n",
      "[17] Test Loss: 0.1539, Accuracy: 95.39%\n",
      "Train Epoch: 18 [0/60000 (0%)]\tLoss: 0.111888\n",
      "Train Epoch: 18 [12800/60000 (21%)]\tLoss: 0.163464\n",
      "Train Epoch: 18 [25600/60000 (43%)]\tLoss: 0.269391\n",
      "Train Epoch: 18 [38400/60000 (64%)]\tLoss: 0.056480\n",
      "Train Epoch: 18 [51200/60000 (85%)]\tLoss: 0.079581\n",
      "[18] Test Loss: 0.1469, Accuracy: 95.60%\n",
      "Train Epoch: 19 [0/60000 (0%)]\tLoss: 0.242008\n",
      "Train Epoch: 19 [12800/60000 (21%)]\tLoss: 0.196076\n",
      "Train Epoch: 19 [25600/60000 (43%)]\tLoss: 0.092570\n",
      "Train Epoch: 19 [38400/60000 (64%)]\tLoss: 0.175782\n",
      "Train Epoch: 19 [51200/60000 (85%)]\tLoss: 0.089211\n",
      "[19] Test Loss: 0.1406, Accuracy: 95.86%\n",
      "Train Epoch: 20 [0/60000 (0%)]\tLoss: 0.078100\n",
      "Train Epoch: 20 [12800/60000 (21%)]\tLoss: 0.140952\n",
      "Train Epoch: 20 [25600/60000 (43%)]\tLoss: 0.093126\n",
      "Train Epoch: 20 [38400/60000 (64%)]\tLoss: 0.123385\n",
      "Train Epoch: 20 [51200/60000 (85%)]\tLoss: 0.080617\n",
      "[20] Test Loss: 0.1364, Accuracy: 95.84%\n"
     ]
    }
   ],
   "source": [
    "for epoch in range(1, EPOCHS + 1):\n",
    "    train(model, train_loader, optimizer, epoch)\n",
    "    test_loss, test_accuracy = test(model, test_loader)\n",
    "    \n",
    "    print('[{}] Test Loss: {:.4f}, Accuracy: {:.2f}%'.format(\n",
    "          epoch, test_loss, test_accuracy))"
   ]
  },
  {
   "cell_type": "code",
   "execution_count": null,
   "metadata": {},
   "outputs": [],
   "source": []
  },
  {
   "cell_type": "code",
   "execution_count": null,
   "metadata": {},
   "outputs": [],
   "source": []
  }
 ],
 "metadata": {
  "kernelspec": {
   "display_name": "Python 3",
   "language": "python",
   "name": "python3"
  },
  "language_info": {
   "codemirror_mode": {
    "name": "ipython",
    "version": 3
   },
   "file_extension": ".py",
   "mimetype": "text/x-python",
   "name": "python",
   "nbconvert_exporter": "python",
   "pygments_lexer": "ipython3",
   "version": "3.5.2"
  }
 },
 "nbformat": 4,
 "nbformat_minor": 2
}
