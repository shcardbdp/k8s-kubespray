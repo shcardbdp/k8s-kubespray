{
 "cells": [
  {
   "cell_type": "markdown",
   "metadata": {
    "colab_type": "text",
    "id": "4ndO2EeP5ECL"
   },
   "source": [
    "# 00_Jupyter Notebook Basics!\n",
    "\n",
    "작성자 : 김정훈\n",
    "수정 : 한기영\n",
    "\n",
    "\n",
    "#### 이 튜토리얼의 목표\n",
    "\n",
    "*다음의  7가지를 자유롭게 할 수 있다면 완료 ! *\n",
    "\n",
    "1. 셀 선택, 편집 모드 진입/선택모드\n",
    "2. 셀을 실행하는 방법들\n",
    "3. 마크다운 셀 / 코드 셀 전환\n",
    "2. 코드 Line number\n",
    "5. 셀 생성, 셀 삭제\n",
    "5. 링크 삽입 / 이미지 삽입\n",
    "7. 파이썬 스크립트 저장, 불러오기\n",
    "\n"
   ]
  },
  {
   "cell_type": "markdown",
   "metadata": {
    "colab_type": "text",
    "id": "Bset4YGo37Tf"
   },
   "source": [
    "## 0. 주의\n",
    "\n",
    "* 실행 결과가 나오기전에 반복실행은 삼가주세요.\n",
    "* 코드가 너무 오래 도는것 같은 경우 Ctrl+ M + I 를 눌러 코드를 멈춰주세요.\n",
    "* 뭔가 완전히 망한 것 같은 경우 Ctrl+M+.(dot)을 눌러서 런타임을 재시작 하면 됩니다. (위의 메뉴를 통해서도 가능합니다.)\n",
    "* 우측 상단에 댓글, 공유 아래에 녹색으로 '연결됨'이라고 되어있는지 체크해주세요."
   ]
  },
  {
   "cell_type": "markdown",
   "metadata": {
    "colab_type": "text",
    "id": "fQc-pZCY-8Tu"
   },
   "source": [
    "## 1. 셀 선택, 편집 모드 진입 / 선택 모드\n",
    "\n",
    "Arrows, Enter, Esc 마음껏 움직여 보라!\n",
    "\n",
    "Q1. 편집모드와 선택모드를 구별 할 수 있나요?"
   ]
  },
  {
   "cell_type": "markdown",
   "metadata": {
    "colab_type": "text",
    "id": "sNKHr4xc-8gW"
   },
   "source": [
    "## 2. 셀을 실행하는 방법들\n",
    "\n",
    "Alt / Ctrl / Shift + Enter\n",
    "\n",
    "Q1. 각각의 차이점을 적어보자!\n",
    "\n",
    "\n",
    "1. Alt + Enter : 실행하고 다음 셀로 내려간다."
   ]
  },
  {
   "cell_type": "code",
   "execution_count": null,
   "metadata": {
    "colab": {
     "base_uri": "https://localhost:8080/",
     "height": 35
    },
    "colab_type": "code",
    "executionInfo": {
     "elapsed": 842,
     "status": "ok",
     "timestamp": 1535009198530,
     "user": {
      "displayName": "김정훈",
      "photoUrl": "//lh5.googleusercontent.com/-bxbnSTt8iBo/AAAAAAAAAAI/AAAAAAAAAC8/ZcYn9C1jc5w/s50-c-k-no/photo.jpg",
      "userId": "107887219599388888482"
     },
     "user_tz": -540
    },
    "id": "rqUi-NTP5hVr",
    "outputId": "88bd1aea-cddc-42f3-f422-2d712193bd99"
   },
   "outputs": [],
   "source": [
    "print('Hello? Is it me you are looking for?')"
   ]
  },
  {
   "cell_type": "markdown",
   "metadata": {
    "colab_type": "text",
    "id": "qAHLjoP_EUQx"
   },
   "source": [
    "## 3. 마크다운 셀 / 코드 셀 전환\n",
    "\n",
    "* 마크다운으로 전환 : MM\n",
    "* 코드셀로 전환 : YY"
   ]
  },
  {
   "cell_type": "markdown",
   "metadata": {
    "colab": {},
    "colab_type": "code",
    "id": "caBCPYZbEnYR"
   },
   "source": [
    "#### 여기는 마크다운 셀\n",
    "\n",
    "1. Please change this cell into a MarkDown Cell\n",
    "\n",
    "or we can't run this cell correctly\n",
    "\n",
    "~< br > 하거나 enter를 두번 치면 한줄 내려감."
   ]
  },
  {
   "cell_type": "markdown",
   "metadata": {
    "colab_type": "text",
    "id": "Cz0Gn5hbFJaA"
   },
   "source": [
    "# Need to change this cell into a Code Cell\n",
    "\n",
    "\n",
    "print( '지금 사용하고 있는 웹 기반 개발 도구 이름은?')\n",
    "answers = input(\"답 : \")\n",
    "\n",
    "if answers == 'Jupyter Notebook' :\n",
    "  print(\"Good!\")\n",
    "else :\n",
    "  print('type correctly, plz')"
   ]
  },
  {
   "cell_type": "markdown",
   "metadata": {
    "colab_type": "text",
    "id": "7ldgQlRbGzn2"
   },
   "source": [
    "## 4. 코드 Line Number"
   ]
  },
  {
   "cell_type": "markdown",
   "metadata": {
    "colab_type": "text",
    "id": "bE9SjFkUm7QJ"
   },
   "source": [
    "L\n"
   ]
  },
  {
   "cell_type": "code",
   "execution_count": null,
   "metadata": {
    "colab": {},
    "colab_type": "code",
    "id": "BUG-ch1-GNQq"
   },
   "outputs": [],
   "source": [
    "sample_list = []\n",
    "sumsum = 0\n",
    "\n",
    "for i in range(10) :\n",
    "  sample_list.append(i)\n",
    "  sumsum += i\n",
    "  print(i)\n",
    "print('loop done')\n",
    "print(sumsum)\n",
    "print(sample_list)"
   ]
  },
  {
   "cell_type": "markdown",
   "metadata": {
    "colab_type": "text",
    "id": "eOO-pcoKmi1z"
   },
   "source": [
    "## 5. 셀 생성, 셀 삭제"
   ]
  },
  {
   "cell_type": "markdown",
   "metadata": {
    "colab_type": "text",
    "id": "HFBVSHlGqzSw"
   },
   "source": [
    "선택된 셀 기준으로\n",
    "* 위에 셀 생성 : a\n",
    "* 아래에 셀 생성 : b\n",
    "* 삭제는 : dd\n"
   ]
  },
  {
   "cell_type": "code",
   "execution_count": null,
   "metadata": {
    "colab": {},
    "colab_type": "code",
    "id": "x2DayOvCsF0F"
   },
   "outputs": [],
   "source": [
    "import pandas as pd"
   ]
  },
  {
   "cell_type": "code",
   "execution_count": null,
   "metadata": {
    "colab": {},
    "colab_type": "code",
    "id": "Z5eAxWv5zKZ1"
   },
   "outputs": [],
   "source": [
    "a = pd.read_csv('ade_sales.csv')"
   ]
  },
  {
   "cell_type": "code",
   "execution_count": null,
   "metadata": {
    "colab": {
     "base_uri": "https://localhost:8080/",
     "height": 223
    },
    "colab_type": "code",
    "executionInfo": {
     "elapsed": 973,
     "status": "ok",
     "timestamp": 1535011260524,
     "user": {
      "displayName": "김정훈",
      "photoUrl": "//lh5.googleusercontent.com/-bxbnSTt8iBo/AAAAAAAAAAI/AAAAAAAAAC8/ZcYn9C1jc5w/s50-c-k-no/photo.jpg",
      "userId": "107887219599388888482"
     },
     "user_tz": -540
    },
    "id": "cTBCBZg3zN9M",
    "outputId": "f135bb01-c05b-4c35-fb63-63e343005b47"
   },
   "outputs": [],
   "source": [
    "a.head()"
   ]
  },
  {
   "cell_type": "code",
   "execution_count": null,
   "metadata": {
    "colab": {},
    "colab_type": "code",
    "id": "_EAzs-arqqp9"
   },
   "outputs": [],
   "source": [
    "print('이 셀을 기준으로 위에 2개 아래에 2개 생성하시오')"
   ]
  },
  {
   "cell_type": "markdown",
   "metadata": {
    "colab_type": "text",
    "id": "P7frniNiqqxN"
   },
   "source": [
    "## 6. 링크 삽입, 이미지 삽입\n",
    "\n",
    "\n",
    "[Robot! 동영상](https://www.youtube.com/watch?v=bRHG7YObDuU)\n",
    "\n",
    "[여기를 눌러보면 좋은 방법들이 많다!](https://gist.github.com/ninanung/2b81a5db946c26c98c573e3662a92b62)\n",
    "\n",
    "![이미지](http://img.cgv.co.kr/Movie/Thumbnail/Poster/000081/81136/81136_1000.jpg \"폴란드로 간 아이들\")"
   ]
  },
  {
   "cell_type": "markdown",
   "metadata": {
    "colab_type": "text",
    "id": "MXHLpl9erIEN"
   },
   "source": [
    "## 7. 저장\n",
    "\n",
    "* 저장 : S <br> \n",
    "\n",
    "~< br > 하거나 enter를 두번 치면 한줄 내려감."
   ]
  },
  {
   "cell_type": "code",
   "execution_count": null,
   "metadata": {
    "colab": {
     "base_uri": "https://localhost:8080/",
     "height": 35
    },
    "colab_type": "code",
    "executionInfo": {
     "elapsed": 1867,
     "status": "ok",
     "timestamp": 1535009631931,
     "user": {
      "displayName": "김정훈",
      "photoUrl": "//lh5.googleusercontent.com/-bxbnSTt8iBo/AAAAAAAAAAI/AAAAAAAAAC8/ZcYn9C1jc5w/s50-c-k-no/photo.jpg",
      "userId": "107887219599388888482"
     },
     "user_tz": -540
    },
    "id": "2bPYRoUNsu0y",
    "outputId": "65cc9a60-481e-402d-cd4b-4b0de4f75ba6"
   },
   "outputs": [],
   "source": [
    "ls"
   ]
  },
  {
   "cell_type": "code",
   "execution_count": null,
   "metadata": {
    "colab": {
     "base_uri": "https://localhost:8080/",
     "height": 35
    },
    "colab_type": "code",
    "executionInfo": {
     "elapsed": 1920,
     "status": "ok",
     "timestamp": 1535009646894,
     "user": {
      "displayName": "김정훈",
      "photoUrl": "//lh5.googleusercontent.com/-bxbnSTt8iBo/AAAAAAAAAAI/AAAAAAAAAC8/ZcYn9C1jc5w/s50-c-k-no/photo.jpg",
      "userId": "107887219599388888482"
     },
     "user_tz": -540
    },
    "id": "PZqSYRsi3qVE",
    "outputId": "e8ab16b0-1ceb-4c5d-df58-9a43df8b79c4"
   },
   "outputs": [],
   "source": [
    "!python --version"
   ]
  },
  {
   "cell_type": "markdown",
   "metadata": {},
   "source": [
    "* Python 파일 불러오기, 저장하기"
   ]
  },
  {
   "cell_type": "code",
   "execution_count": null,
   "metadata": {
    "scrolled": true
   },
   "outputs": [],
   "source": [
    "%%writefile filename.py\n",
    "\n",
    "print(\"aaa\")"
   ]
  },
  {
   "cell_type": "code",
   "execution_count": null,
   "metadata": {},
   "outputs": [],
   "source": [
    "%run filename.py\n"
   ]
  },
  {
   "cell_type": "code",
   "execution_count": null,
   "metadata": {},
   "outputs": [],
   "source": [
    "%load filename.py"
   ]
  },
  {
   "cell_type": "markdown",
   "metadata": {},
   "source": [
    "## 8. 여러줄 주석처리\n",
    "\n",
    "* Ctrl + /"
   ]
  }
 ],
 "metadata": {
  "accelerator": "GPU",
  "colab": {
   "collapsed_sections": [
    "sNKHr4xc-8gW",
    "qAHLjoP_EUQx",
    "7ldgQlRbGzn2",
    "eOO-pcoKmi1z",
    "MXHLpl9erIEN",
    "5wgLkis47ECE",
    "I9UOTCHu3qfV",
    "dj1ym8sYIUIY"
   ],
   "name": "00_Colab_Basics.ipynb",
   "provenance": [],
   "version": "0.3.2"
  },
  "kernelspec": {
   "display_name": "Python 3",
   "language": "python",
   "name": "python3"
  },
  "language_info": {
   "codemirror_mode": {
    "name": "ipython",
    "version": 3
   },
   "file_extension": ".py",
   "mimetype": "text/x-python",
   "name": "python",
   "nbconvert_exporter": "python",
   "pygments_lexer": "ipython3",
   "version": "3.6.3"
  }
 },
 "nbformat": 4,
 "nbformat_minor": 1
}
