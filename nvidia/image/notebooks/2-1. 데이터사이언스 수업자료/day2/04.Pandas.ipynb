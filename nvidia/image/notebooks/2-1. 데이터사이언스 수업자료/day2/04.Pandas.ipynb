{
 "cells": [
  {
   "cell_type": "markdown",
   "metadata": {
    "colab_type": "text",
    "id": "w8C_iSSpYnVO"
   },
   "source": [
    "# 04 Pandas\n",
    "\n",
    "작성 : 김정훈\n",
    "\n",
    "수정 : 한기영\n",
    "\n",
    "\n",
    "#### 주의 : 판다스의 모든 것을 다루지 않습니다. Machine Learning 또는 Deep Learning을 공부하기 위해 최소한 알아야 하는 범위만을 다룹니다.\n",
    "\n",
    "\n",
    "\n",
    "#### 선행지식\n",
    "1. Python 언어 기초.\n",
    "2. Numpy 라이브러리 기초.\n",
    "3. table 구조의 데이터에 대한 이해. (엑셀 형태의 데이터)\n",
    "\n",
    "#### 실습목표\n",
    "1. csv 파일 읽는법. \n",
    "2. dataframe을 만드는 법.\n",
    "2. dataframe을 다루기.\n",
    "3. head, tail\n",
    "4. 정렬\n",
    "5. numpy array와 변환, \n",
    "6. 다양한 dataframe 연산.\n"
   ]
  },
  {
   "cell_type": "markdown",
   "metadata": {
    "colab_type": "text",
    "id": "DFijIAllYnVQ"
   },
   "source": [
    "## 0.라이브러리 불러오기 & 데이터 업로드"
   ]
  },
  {
   "cell_type": "markdown",
   "metadata": {},
   "source": [
    "* csv 파일을 불러들이는 작업은 보통 pandas에서 합니다!"
   ]
  },
  {
   "cell_type": "code",
   "execution_count": null,
   "metadata": {
    "colab": {},
    "colab_type": "code",
    "id": "0wzhP3IXYnVQ"
   },
   "outputs": [],
   "source": [
    "import pandas as pd\n",
    "import numpy as np\n",
    "import matplotlib.pyplot as plt"
   ]
  },
  {
   "cell_type": "code",
   "execution_count": null,
   "metadata": {
    "colab": {},
    "colab_type": "code",
    "id": "EJ4lNSv8aKCV"
   },
   "outputs": [],
   "source": [
    "ls"
   ]
  },
  {
   "cell_type": "markdown",
   "metadata": {},
   "source": [
    "## 1. Pandas Series"
   ]
  },
  {
   "cell_type": "markdown",
   "metadata": {},
   "source": [
    "* 판다스 시리즈, 넘파이 1차원어레이, 리스트를 비교해봅시다."
   ]
  },
  {
   "cell_type": "code",
   "execution_count": null,
   "metadata": {},
   "outputs": [],
   "source": [
    "# Pandas Series\n",
    "stock = pd.Series([92600, 92400, 92100, 94300, 92300])\n",
    "print(stock[1:])\n",
    "\n",
    "# Numpy rank 1 array\n",
    "np_stock = np.array([92600, 92400, 92100, 94300, 92300])\n",
    "print(np_stock[1:])\n",
    "\n",
    "# python List\n",
    "list_stock = [92600, 92400, 92100, 94300, 92300]\n",
    "print(list_stock[1:] )\n"
   ]
  },
  {
   "cell_type": "markdown",
   "metadata": {},
   "source": [
    "* 판다스 object의 메쏘드 형태로 차트를 그릴 수 있습니다."
   ]
  },
  {
   "cell_type": "code",
   "execution_count": null,
   "metadata": {
    "scrolled": false
   },
   "outputs": [],
   "source": [
    "import matplotlib.pyplot as plt\n",
    "\n",
    "stock1 = pd.Series([92600, 92400, 92100, 94300, 92300])\n",
    "stock1.plot()\n",
    "plt.show()"
   ]
  },
  {
   "cell_type": "markdown",
   "metadata": {},
   "source": [
    "* Series의 Index 이름을 변경할 수 있다"
   ]
  },
  {
   "cell_type": "code",
   "execution_count": null,
   "metadata": {},
   "outputs": [],
   "source": [
    "stock = pd.Series([92600, 92400, 92100, 94300, 92300]\n",
    "         , index=['2018-02-19', '2018-02-18','2018-02-17','2018-02-16','2018-02-15'])\n",
    "print(stock)\n"
   ]
  },
  {
   "cell_type": "markdown",
   "metadata": {},
   "source": [
    " "
   ]
  },
  {
   "cell_type": "markdown",
   "metadata": {},
   "source": [
    "## 2. Pandas Dataframe"
   ]
  },
  {
   "cell_type": "markdown",
   "metadata": {},
   "source": [
    "### 2.1 Dataframe 생성"
   ]
  },
  {
   "cell_type": "code",
   "execution_count": null,
   "metadata": {
    "colab": {},
    "colab_type": "code",
    "id": "6LkPm72OYnVU"
   },
   "outputs": [],
   "source": [
    "# Dataframes 생성\n",
    "# Dictionary로 구조를 잡고\n",
    "d = {\n",
    "   'col1': ['Item0', 'Item0', 'Item1', 'Item1'],\n",
    "   'col2': ['Gold', 'Bronze', 'Gold', 'Silver'],\n",
    "   'col3': [1, 2, 3, 4]\n",
    "}\n",
    "\n",
    "# dataframe으로 변경\n",
    "df = pd.DataFrame(d)\n",
    "print(df)"
   ]
  },
  {
   "cell_type": "code",
   "execution_count": null,
   "metadata": {
    "scrolled": true
   },
   "outputs": [],
   "source": [
    "df1 = df['col1']\n",
    "print(type(df1))\n",
    "print(df1)"
   ]
  },
  {
   "cell_type": "code",
   "execution_count": null,
   "metadata": {
    "scrolled": true
   },
   "outputs": [],
   "source": [
    "df2 = df[['col1']]\n",
    "print(type(df2))\n",
    "print(df2)"
   ]
  },
  {
   "cell_type": "markdown",
   "metadata": {},
   "source": [
    "<br>\n",
    "\n",
    "*  Pandas DataFrame => Numpy Array 로 바꾸기"
   ]
  },
  {
   "cell_type": "code",
   "execution_count": null,
   "metadata": {
    "scrolled": true
   },
   "outputs": [],
   "source": [
    "# np.array()로 변환\n",
    "np_array1 = np.array(df)\n",
    "print(type(np_array1))\n",
    "print(np_array1)\n",
    "print(np_array1.shape)"
   ]
  },
  {
   "cell_type": "code",
   "execution_count": null,
   "metadata": {
    "colab": {},
    "colab_type": "code",
    "id": "JD8ItbgpYnVY",
    "scrolled": true
   },
   "outputs": [],
   "source": [
    "# .values 로 변환\n",
    "np_array2 = df.values\n",
    "print(type(np_array2))\n",
    "print(np_array2)\n",
    "print(np_array2.shape)"
   ]
  },
  {
   "cell_type": "markdown",
   "metadata": {},
   "source": [
    "#### 이렇게 생성할 수 있으나 보통은 데이터 파일 / DB에서 가져옵니다."
   ]
  },
  {
   "cell_type": "markdown",
   "metadata": {},
   "source": [
    "<br>\n",
    "\n",
    "### 2.2 CSV파일에서 데이터 불러오기"
   ]
  },
  {
   "cell_type": "code",
   "execution_count": null,
   "metadata": {
    "colab": {},
    "colab_type": "code",
    "id": "oEKAmGsQYnVb",
    "scrolled": true
   },
   "outputs": [],
   "source": [
    "# Loading CSV files\n",
    "df = pd.read_csv('Graduate_apply.csv', sep=',', skipinitialspace=True)  # skipinitialspace 구분자 양쪽 공백은 제거.\n",
    "df"
   ]
  },
  {
   "cell_type": "code",
   "execution_count": null,
   "metadata": {},
   "outputs": [],
   "source": [
    "# 파일로 저장하기 : to_csv\n",
    "df2.to_csv('file.csv', header=True, index=False, encoding='utf-8')"
   ]
  },
  {
   "cell_type": "code",
   "execution_count": null,
   "metadata": {
    "colab": {},
    "colab_type": "code",
    "id": "B9NZbzsOmE9Q",
    "scrolled": true
   },
   "outputs": [],
   "source": [
    "ls"
   ]
  },
  {
   "cell_type": "markdown",
   "metadata": {
    "colab_type": "text",
    "id": "-RYoYWk-YnVc"
   },
   "source": [
    "<br>\n",
    "\n",
    "### 2.3 데이터 미리 보기"
   ]
  },
  {
   "cell_type": "code",
   "execution_count": null,
   "metadata": {
    "colab": {},
    "colab_type": "code",
    "id": "3V0T5qwfYnVd"
   },
   "outputs": [],
   "source": [
    "# 첫 5개 행의 데이터를 보여줍니다.\n",
    "df.head()"
   ]
  },
  {
   "cell_type": "code",
   "execution_count": null,
   "metadata": {
    "colab": {},
    "colab_type": "code",
    "id": "2agjyJgBYnVf"
   },
   "outputs": [],
   "source": [
    "# 마지막 3개 행의 데이터를 보여줍니다.\n",
    "df.tail(3)"
   ]
  },
  {
   "cell_type": "code",
   "execution_count": null,
   "metadata": {
    "colab": {},
    "colab_type": "code",
    "id": "EYh2NhMSYnVh"
   },
   "outputs": [],
   "source": [
    "# 데이터 프레임 모양 확인 - (rows, cols) tuple\n",
    "df.shape"
   ]
  },
  {
   "cell_type": "markdown",
   "metadata": {},
   "source": [
    "#### 칼럼정보 조회"
   ]
  },
  {
   "cell_type": "code",
   "execution_count": null,
   "metadata": {
    "colab": {},
    "colab_type": "code",
    "id": "YZp-NPIQYnVl"
   },
   "outputs": [],
   "source": [
    "# 칼럼명 출력\n",
    "print(df.columns)\n",
    "print(list(df))"
   ]
  },
  {
   "cell_type": "code",
   "execution_count": null,
   "metadata": {
    "colab": {},
    "colab_type": "code",
    "id": "mJbpIbz2YnVn"
   },
   "outputs": [],
   "source": [
    "# 각 칼럼의 데이터 타입\n",
    "df.dtypes"
   ]
  },
  {
   "cell_type": "markdown",
   "metadata": {},
   "source": [
    "#### numpy Array로 변환"
   ]
  },
  {
   "cell_type": "code",
   "execution_count": null,
   "metadata": {
    "colab": {},
    "colab_type": "code",
    "id": "O-a2QMLXYnVu"
   },
   "outputs": [],
   "source": [
    "# 데이터 출력 - numpy array\n",
    "df.values"
   ]
  },
  {
   "cell_type": "markdown",
   "metadata": {},
   "source": [
    "#### 기초통계량 : 평균, 표준편차, quartile"
   ]
  },
  {
   "cell_type": "code",
   "execution_count": null,
   "metadata": {
    "colab": {},
    "colab_type": "code",
    "id": "8Z8rhBNBYnVw"
   },
   "outputs": [],
   "source": [
    "# 기초통계량\n",
    "df.describe() "
   ]
  },
  {
   "cell_type": "markdown",
   "metadata": {},
   "source": [
    "#### 정렬"
   ]
  },
  {
   "cell_type": "code",
   "execution_count": null,
   "metadata": {
    "colab": {},
    "colab_type": "code",
    "id": "XtYZ3ykzYnVz"
   },
   "outputs": [],
   "source": [
    "# index로 정렬\n",
    "df.sort_index(axis=0, ascending=False).head()"
   ]
  },
  {
   "cell_type": "code",
   "execution_count": null,
   "metadata": {
    "colab": {},
    "colab_type": "code",
    "id": "b54Sod9nYnV2"
   },
   "outputs": [],
   "source": [
    "# 특정 컬럼의 값으로 정렬\n",
    "df.sort_values(by=['admit', 'gpa'], ascending=False).head()"
   ]
  },
  {
   "cell_type": "markdown",
   "metadata": {
    "colab_type": "text",
    "id": "hUWXEi1KYnV4"
   },
   "source": [
    "<br>\n",
    "\n",
    "#### 실습"
   ]
  },
  {
   "cell_type": "code",
   "execution_count": null,
   "metadata": {
    "colab": {},
    "colab_type": "code",
    "id": "LanCge2QYnV4"
   },
   "outputs": [],
   "source": [
    "# 1) pandas read_csv 함수를 이용하여 graduate_apply.csv 파일을 읽고, data_frame 변수에 담습니다. \n",
    "\n",
    "# 2) data_frame의 shape를 확인합니다.\n",
    "\n",
    "# 3) data_frame의 칼럼명과 각 칼럼의 데이터 타입을 확인합니다.\n",
    "\n",
    "# 4) data_frame의 데이터의 첫 3행의 데이터와 마지막 3행의 데이터를 출력합니다.\n",
    "\n",
    "# 5) data_frame의 데이터를 numpy array로 변환하여 출력합니다.\n",
    "\n",
    "# 6) data_frame의 데이터를 'gra' 칼럼을 기준으로 오름차순으로 정렬합니다. \n"
   ]
  },
  {
   "cell_type": "markdown",
   "metadata": {
    "colab_type": "text",
    "id": "WUSoqSxcYnV5"
   },
   "source": [
    "<br>\n",
    "\n",
    "### 2.4 원하는 데이터 조회하기"
   ]
  },
  {
   "cell_type": "markdown",
   "metadata": {},
   "source": [
    "#### 칼럼 명으로 조회"
   ]
  },
  {
   "cell_type": "code",
   "execution_count": null,
   "metadata": {
    "colab": {},
    "colab_type": "code",
    "id": "TH8CN-tiYnV6",
    "scrolled": true
   },
   "outputs": [],
   "source": [
    "# 칼럼명으로 조회 1 칼럼명에 한글이나 특수문자 들어가면 문제가 될 수 있음. 비추!\n",
    "df.gre.head()\n",
    "# df_gre1 = df.gre.head()\n",
    "# type(df_gre1)"
   ]
  },
  {
   "cell_type": "code",
   "execution_count": null,
   "metadata": {
    "colab": {},
    "colab_type": "code",
    "id": "udMMbPTPYnV8"
   },
   "outputs": [],
   "source": [
    "# 칼럼명으로 조회 2\n",
    "df['gre'].head()\n",
    "\n",
    "# df_gre2 = df['gre'].head()\n",
    "# type(df_gre2)"
   ]
  },
  {
   "cell_type": "code",
   "execution_count": null,
   "metadata": {
    "scrolled": false
   },
   "outputs": [],
   "source": [
    "# 중복 제거 .unique()\n",
    "df['gre'].unique()         "
   ]
  },
  {
   "cell_type": "code",
   "execution_count": null,
   "metadata": {},
   "outputs": [],
   "source": [
    "# 칼럼명으로 조회 3\n",
    "df[['gre']].head()"
   ]
  },
  {
   "cell_type": "code",
   "execution_count": null,
   "metadata": {
    "colab": {},
    "colab_type": "code",
    "id": "GPp0xZqzYnV9"
   },
   "outputs": [],
   "source": [
    "# 두 개의 칼럼 동시 조회\n",
    "df[['gpa', 'gre']].head()"
   ]
  },
  {
   "cell_type": "markdown",
   "metadata": {},
   "source": [
    "<br>\n",
    "\n",
    "#### 행번호로 조회하기 .iloc()"
   ]
  },
  {
   "cell_type": "code",
   "execution_count": null,
   "metadata": {
    "colab": {},
    "colab_type": "code",
    "id": "gLL3x8wWYnV_"
   },
   "outputs": [],
   "source": [
    "# 행번호 1 조회 : 1개 행으로 조회하면 pandas series\n",
    "df.iloc[1]\n",
    "\n",
    "# df1 = df.iloc[1]\n",
    "# type(df1)"
   ]
  },
  {
   "cell_type": "code",
   "execution_count": null,
   "metadata": {
    "colab": {},
    "colab_type": "code",
    "id": "PMXMj8iNYnWB",
    "scrolled": true
   },
   "outputs": [],
   "source": [
    "# 행번호 1~3 조회 : 범위로 조회하면 dataframe\n",
    "df.iloc[1:3]"
   ]
  },
  {
   "cell_type": "code",
   "execution_count": null,
   "metadata": {
    "colab": {},
    "colab_type": "code",
    "id": "3_YNehA3YnWD"
   },
   "outputs": [],
   "source": [
    "# 0번째 row, 0번째 column\n",
    "df.iloc[0, 0]"
   ]
  },
  {
   "cell_type": "code",
   "execution_count": null,
   "metadata": {
    "colab": {},
    "colab_type": "code",
    "id": "hOcph2gbYnWF"
   },
   "outputs": [],
   "source": [
    "# 0~4 rows & 0~2 columns\n",
    "df.iloc[0:4, 0:2]"
   ]
  },
  {
   "cell_type": "markdown",
   "metadata": {},
   "source": [
    "<br>\n",
    "\n",
    "#### 조건으로 조회하기"
   ]
  },
  {
   "cell_type": "code",
   "execution_count": null,
   "metadata": {
    "colab": {},
    "colab_type": "code",
    "id": "0F1Hu1buYnWG",
    "scrolled": true
   },
   "outputs": [],
   "source": [
    "# 조건을 비교한 결과(True/False) 값으로 반환됨. \n",
    "\n",
    "(df['gpa'] > 3.5).head()"
   ]
  },
  {
   "cell_type": "code",
   "execution_count": null,
   "metadata": {
    "colab": {},
    "colab_type": "code",
    "id": "Kp2lBEDTYnWI"
   },
   "outputs": [],
   "source": [
    "# 조건을 비교한 결과 True 인 값을 조회\n",
    "df[df['gpa'] > 3.0].head()"
   ]
  },
  {
   "cell_type": "code",
   "execution_count": null,
   "metadata": {
    "colab": {},
    "colab_type": "code",
    "id": "QcvToTXBYnWJ"
   },
   "outputs": [],
   "source": [
    "# 랭크 1,2에 해당되는 데이터 조회하기 : 여러값을 한꺼번에 비교할 때 .isin()\n",
    "df[df['rank'].isin([1, 2])].head()"
   ]
  },
  {
   "cell_type": "code",
   "execution_count": null,
   "metadata": {
    "colab": {},
    "colab_type": "code",
    "id": "Vj3YKKw3YnWL"
   },
   "outputs": [],
   "source": [
    "# and, or 조건으로 여러 조건 함께 조회하기 : and = &, or = |\n",
    "df[(df['gpa'] > 3.0) & (df['rank'] == 3)].head()"
   ]
  },
  {
   "cell_type": "code",
   "execution_count": null,
   "metadata": {
    "colab": {},
    "colab_type": "code",
    "id": "WNZS-UD_YnWO",
    "scrolled": true
   },
   "outputs": [],
   "source": [
    "# A disjunction query using two columns\n",
    "df[(df['gpa'] > 3.0) | (df['rank'] == 3)].head()"
   ]
  },
  {
   "cell_type": "code",
   "execution_count": null,
   "metadata": {
    "colab": {},
    "colab_type": "code",
    "id": "d9YbMOjqYnWP"
   },
   "outputs": [],
   "source": [
    "# Dataframes 생성\n",
    "d = {\n",
    "   'col1': ['Item0', 'Item0', 'Item1', 'Item1'],\n",
    "   'col2': ['Gold', 'Bronze', 'Gold', 'Silver'],\n",
    "   'col3': [1, 2, 3, 4]\n",
    "}\n",
    "df1 = pd.DataFrame(d)\n",
    "\n",
    "# 문자열이 들어있는 row만 조회\n",
    "df1[df1.col2.str.contains('ilver')]"
   ]
  },
  {
   "cell_type": "markdown",
   "metadata": {
    "colab_type": "text",
    "id": "jCKFM4VHYnWS"
   },
   "source": [
    "### 실습"
   ]
  },
  {
   "cell_type": "code",
   "execution_count": null,
   "metadata": {
    "colab": {},
    "colab_type": "code",
    "id": "5q6cYIfpYnWS"
   },
   "outputs": [],
   "source": [
    "# pandas read_csv 함수를 이용하여 graduate_apply.csv 파일을 읽고, data_frame 변수에 담습니다. \n",
    "\n",
    "# data_frame의 shape를 확인합니다.\n",
    "\n",
    "# data_frame의 칼럼명과 각 칼럼의 데이터 타입을 확인합니다.\n",
    "\n",
    "# 1) unique 함수를 가지고 'rank'의 칼럼에 들어있는 데이터의 종류를 확인합니다.\n",
    "\n",
    "# 2) gre 점수가 평균 이상이면서 rank가 4인 사람을 조회하시오.\n"
   ]
  },
  {
   "cell_type": "markdown",
   "metadata": {
    "colab_type": "text",
    "id": "0kW6dzBFYnWW"
   },
   "source": [
    "<br>\n",
    "\n",
    "### 2.5 Dataframe 수정하기"
   ]
  },
  {
   "cell_type": "code",
   "execution_count": null,
   "metadata": {
    "colab": {},
    "colab_type": "code",
    "id": "qeUasveBYnWX",
    "scrolled": true
   },
   "outputs": [],
   "source": [
    "# 행 이름과 칼럼이름으로 조회 & 수정\n",
    "df1.loc[1, 'col2'] = 'Bronze and Gold' \n",
    "df1"
   ]
  },
  {
   "cell_type": "code",
   "execution_count": null,
   "metadata": {
    "colab": {},
    "colab_type": "code",
    "id": "R1-XPQlGYnWZ"
   },
   "outputs": [],
   "source": [
    "# 행번호, 열번호로 조회 & 수정\n",
    "df1.iloc[1, 1] = 'Bronze again' \n",
    "df1"
   ]
  },
  {
   "cell_type": "code",
   "execution_count": null,
   "metadata": {
    "scrolled": true
   },
   "outputs": [],
   "source": [
    "['Unknown0'] * 3"
   ]
  },
  {
   "cell_type": "code",
   "execution_count": null,
   "metadata": {
    "colab": {},
    "colab_type": "code",
    "id": "yEsX-qE1YnWb"
   },
   "outputs": [],
   "source": [
    "# 구간을 특정 값으로 채우기\n",
    "df1.loc[1:3, 'col3'] = ['Unknown0'] * 3\n",
    "df1"
   ]
  },
  {
   "cell_type": "code",
   "execution_count": null,
   "metadata": {},
   "outputs": [],
   "source": [
    "# 구간을 특정 값으로 채우기\n",
    "df1.loc[1:3, 'col3'] = 'NA'\n",
    "df1"
   ]
  },
  {
   "cell_type": "markdown",
   "metadata": {},
   "source": [
    "<br>\n",
    "\n",
    "####  Dummy variable만들기 : 중요!"
   ]
  },
  {
   "cell_type": "code",
   "execution_count": null,
   "metadata": {
    "colab": {},
    "colab_type": "code",
    "id": "viBEuv5gYnWi"
   },
   "outputs": [],
   "source": [
    "# 다시 불러오자\n",
    "df = pd.read_csv('Graduate_apply.csv', sep=',', skipinitialspace=True)\n",
    "df.head()\n"
   ]
  },
  {
   "cell_type": "code",
   "execution_count": null,
   "metadata": {
    "scrolled": true
   },
   "outputs": [],
   "source": [
    "# rank 열은 범주형이므로 Dummy Variable로 변환해보자.\n",
    "df_rank = pd.get_dummies(df['rank'])\n",
    "print(df_rank.head())\n",
    "print(\"---------------------------------------\")\n",
    "\n",
    "\n",
    "\n",
    "# Dummy 데이터를 원래 데이터와 합치기\n",
    "df_new = pd.concat([df, df_rank], axis=1)\n",
    "print(df_new.head())\n",
    "print(\"---------------------------------------\")\n",
    "\n",
    "# 특정 칼럼 제거하기\n",
    "df_new.drop('rank', axis=1, inplace=True)\n",
    "print(df_new.head())"
   ]
  },
  {
   "cell_type": "markdown",
   "metadata": {},
   "source": [
    "* 칼럼이름 수정하기"
   ]
  },
  {
   "cell_type": "code",
   "execution_count": null,
   "metadata": {},
   "outputs": [],
   "source": [
    "# 전체수정\n",
    "#df_new.columns = ['admit', 'gre', 'gpa', 'rank_1', 'rank_2', 'rank_3', 'rank_4']\n",
    "\n",
    "# 부분수정\n",
    "df_new.columns.values[3:] = ['rank_1', 'rank_2', 'rank_3', 'rank_4']"
   ]
  },
  {
   "cell_type": "code",
   "execution_count": null,
   "metadata": {
    "scrolled": true
   },
   "outputs": [],
   "source": [
    "df_new.head()"
   ]
  },
  {
   "cell_type": "code",
   "execution_count": null,
   "metadata": {
    "scrolled": true
   },
   "outputs": [],
   "source": [
    "# 여러 칼럼 동시 제거하기\n",
    "df_new.drop(['gre', 'gpa'], axis=1, inplace=True)\n",
    "print(df_new.head())"
   ]
  },
  {
   "cell_type": "markdown",
   "metadata": {},
   "source": [
    "### 실습"
   ]
  },
  {
   "cell_type": "code",
   "execution_count": null,
   "metadata": {
    "scrolled": true
   },
   "outputs": [],
   "source": [
    "# 1) titanic_simple.csv파일을 불러와서 pandas dataframe 'titanic'으로 저장\n",
    "titanic = pd.read_csv('titanic_simple.csv', sep=',', skipinitialspace=True)\n",
    "\n",
    "# 2) 상위 10개 행의 데이터를 조회합니다.\n",
    "\n",
    "# 3) titanic의 shape를 확인합니다.\n",
    "\n",
    "# 4) 각 칼럼별 NaN이 몇 건이나 있는지 확인합니다.\n",
    "\n",
    "# 5) 객실등급(Pclass)이 1등급 이고, 나이(Age)가 5세 이하의 탑승객을 조회하시오.\n",
    "\n",
    "# 6) 객실등급(Pclass)는 범주형 데이터입니다. Dummy variable로 변환하여 기존 데이터셋과 붙이시오.\n"
   ]
  },
  {
   "cell_type": "markdown",
   "metadata": {
    "colab_type": "text",
    "id": "hElggTFXYnWj"
   },
   "source": [
    "<br>\n",
    "\n",
    "### 2.6 Group by, Join, Rolling"
   ]
  },
  {
   "cell_type": "code",
   "execution_count": null,
   "metadata": {
    "colab": {},
    "colab_type": "code",
    "id": "SOiVUXk_nlEl"
   },
   "outputs": [],
   "source": [
    "# 다시 불러옵시다.\n",
    "df = pd.read_csv('Graduate_apply.csv', sep=',', skipinitialspace=True)\n",
    "df.head()"
   ]
  },
  {
   "cell_type": "markdown",
   "metadata": {
    "colab_type": "text",
    "id": "QiqL2q7spSvA"
   },
   "source": [
    "### Group by"
   ]
  },
  {
   "cell_type": "code",
   "execution_count": null,
   "metadata": {
    "colab": {},
    "colab_type": "code",
    "id": "BJzZz0mWBVxR",
    "scrolled": true
   },
   "outputs": [],
   "source": [
    "# rank 별 gre 평균 점수를 조회해보자.\n",
    "df.groupby(by=['rank'], as_index = False)['gre'].mean()  #as_index = True이면 결과가 series로 나옴."
   ]
  },
  {
   "cell_type": "code",
   "execution_count": null,
   "metadata": {
    "colab": {},
    "colab_type": "code",
    "id": "50rc3HRevz-p"
   },
   "outputs": [],
   "source": [
    "# rank별 admit 별 gre와 gpa 평균 점수를 조회\n",
    "df.groupby(by = ['rank', 'admit'], as_index=False)['gre', 'gpa'].mean()"
   ]
  },
  {
   "cell_type": "code",
   "execution_count": null,
   "metadata": {
    "colab": {},
    "colab_type": "code",
    "id": "sVNr7qJL4Zvh"
   },
   "outputs": [],
   "source": [
    "df.groupby(by = ['rank', 'admit'], as_index=False)['gre', 'gpa'].std()"
   ]
  },
  {
   "cell_type": "markdown",
   "metadata": {},
   "source": [
    "rank 값이 이상해 지는 것은 pandas 버그!! .std 함수 쓸 때 발생됨. <br>\n",
    "미봉책은 join에서 다뤄봅니다.^^"
   ]
  },
  {
   "cell_type": "code",
   "execution_count": null,
   "metadata": {
    "colab": {},
    "colab_type": "code",
    "id": "jYEDqpc11tc-"
   },
   "outputs": [],
   "source": [
    "df.groupby(by = ['rank', 'admit'], as_index=False).count()"
   ]
  },
  {
   "cell_type": "code",
   "execution_count": null,
   "metadata": {
    "colab": {},
    "colab_type": "code",
    "id": "KG1Fa-rG5Qpd"
   },
   "outputs": [],
   "source": [
    "df.groupby(by = ['rank', 'admit'], as_index=False)['gre'].count()"
   ]
  },
  {
   "cell_type": "markdown",
   "metadata": {
    "colab_type": "text",
    "id": "F22Encp0pMEf"
   },
   "source": [
    "#### 칼럼의 이름을 변경해 봅시다."
   ]
  },
  {
   "cell_type": "code",
   "execution_count": null,
   "metadata": {
    "colab": {},
    "colab_type": "code",
    "id": "U_opwEZU5WuF"
   },
   "outputs": [],
   "source": [
    "df_by_rank = df.groupby(by = ['rank'], as_index=False)['gre'].mean()\n",
    "df_by_rank.head()"
   ]
  },
  {
   "cell_type": "code",
   "execution_count": null,
   "metadata": {
    "colab": {},
    "colab_type": "code",
    "id": "3DxjhoVX5jvH"
   },
   "outputs": [],
   "source": [
    "if 'gre' in df_by_rank.columns :\n",
    "    df_by_rank.rename(columns={'gre':'gre_mean'}, inplace = True)"
   ]
  },
  {
   "cell_type": "code",
   "execution_count": null,
   "metadata": {
    "colab": {},
    "colab_type": "code",
    "id": "QRj-BZfC5xpH"
   },
   "outputs": [],
   "source": [
    "df_by_rank.head()"
   ]
  },
  {
   "cell_type": "markdown",
   "metadata": {
    "colab_type": "text",
    "id": "66oW1jgUMp_O"
   },
   "source": [
    "### 실습"
   ]
  },
  {
   "cell_type": "code",
   "execution_count": null,
   "metadata": {
    "colab": {},
    "colab_type": "code",
    "id": "TXBGWEXIM3XQ"
   },
   "outputs": [],
   "source": [
    "## Your Code\n",
    "\n",
    "# 1) rank, admit 별 gre의 최대값을 출력한 후 df_max에 저장하시오.\n",
    "\n",
    "# 2) 열 이름을 gre_max로 변경하시오\n",
    "\n"
   ]
  },
  {
   "cell_type": "markdown",
   "metadata": {
    "colab_type": "text",
    "id": "0Cq3lmVb5oj2"
   },
   "source": [
    "### Join"
   ]
  },
  {
   "cell_type": "code",
   "execution_count": null,
   "metadata": {
    "colab": {},
    "colab_type": "code",
    "id": "qE9uXpyO6XGq"
   },
   "outputs": [],
   "source": [
    "mean_by_rank = df.groupby(by = ['rank'], as_index=False)['gre', 'gpa'].mean()\n",
    "mean_by_rank.rename(columns = {'gre':'gre_mean', 'gpa':'gpa_mean'}, inplace = True)\n",
    "mean_by_rank"
   ]
  },
  {
   "cell_type": "code",
   "execution_count": null,
   "metadata": {
    "colab": {},
    "colab_type": "code",
    "id": "-HCmIf8I7kDx"
   },
   "outputs": [],
   "source": [
    "'''\n",
    "pandas,  ver0.22.0 기준으로 버그인 rank가 이상한 값으로 보이지만 값들은 정상입니다.\n",
    "'''\n",
    "std_by_rank = df.groupby(by = ['rank'], as_index=False)['gre', 'gpa'].std()\n",
    "std_by_rank.rename(columns = {'gre':'gre_std', 'gpa':'gpa_std'}, inplace = True)\n",
    "std_by_rank"
   ]
  },
  {
   "cell_type": "code",
   "execution_count": null,
   "metadata": {
    "colab": {},
    "colab_type": "code",
    "id": "msPDKeIaGCd2"
   },
   "outputs": [],
   "source": [
    "# 이상한 값을 맞춰준 후\n",
    "std_by_rank['rank'] = mean_by_rank['rank']\n",
    "std_by_rank"
   ]
  },
  {
   "cell_type": "markdown",
   "metadata": {
    "colab_type": "text",
    "id": "pzDmPyRvGdUv"
   },
   "source": [
    "* 판다스에서 join은 굉장히 간단합니다.\n",
    "* 자동으로 key를 잡아줍니다\n",
    "* default로 inner join을 합니다."
   ]
  },
  {
   "cell_type": "code",
   "execution_count": null,
   "metadata": {
    "colab": {},
    "colab_type": "code",
    "id": "j5DGezR_GTc6"
   },
   "outputs": [],
   "source": [
    "pd.merge(mean_by_rank, std_by_rank) #공통된 칼럼이 있으면 그 칼럼을 key로 사용"
   ]
  },
  {
   "cell_type": "markdown",
   "metadata": {},
   "source": [
    "how 파라미터에 값을 지정하여 outer join을 수행합니다. <br>\n",
    "how='inner'   <br>\n",
    "==> left, rigth, outer"
   ]
  },
  {
   "cell_type": "code",
   "execution_count": null,
   "metadata": {
    "colab": {},
    "colab_type": "code",
    "id": "HOK_DUWYGq4t",
    "scrolled": false
   },
   "outputs": [],
   "source": [
    "pd.merge(mean_by_rank, std_by_rank, on = 'rank', how = 'left')"
   ]
  },
  {
   "cell_type": "markdown",
   "metadata": {
    "colab_type": "text",
    "id": "IudB7hIxHAj-"
   },
   "source": [
    "multiple key에 대해서도 자동으로 join이 됩니다!"
   ]
  },
  {
   "cell_type": "code",
   "execution_count": null,
   "metadata": {
    "colab": {},
    "colab_type": "code",
    "id": "6XFhsDRnHRXW",
    "scrolled": true
   },
   "outputs": [],
   "source": [
    "mean_by_rank2 = df.groupby(by = ['rank', 'admit'], as_index=False)['gre', 'gpa'].mean()\n",
    "mean_by_rank2.rename(columns = {'gre':'gre_mean', 'gpa':'gpa_mean'}, inplace = True)\n",
    "mean_by_rank2"
   ]
  },
  {
   "cell_type": "code",
   "execution_count": null,
   "metadata": {
    "colab": {},
    "colab_type": "code",
    "id": "79OKecOWHZY6"
   },
   "outputs": [],
   "source": [
    "std_by_rank2 = df.groupby(by = ['rank','admit'], as_index=False)['gre', 'gpa'].std()\n",
    "std_by_rank2.rename(columns = {'gre':'gre_std', 'gpa':'gpa_std'}, inplace = True)\n",
    "std_by_rank2['rank'] = mean_by_rank2['rank']\n",
    "std_by_rank2"
   ]
  },
  {
   "cell_type": "code",
   "execution_count": null,
   "metadata": {
    "colab": {},
    "colab_type": "code",
    "id": "m3HJLkjBHmtJ",
    "scrolled": true
   },
   "outputs": [],
   "source": [
    "pd.merge(mean_by_rank2,std_by_rank2)  #같은 칼럼들을 Key값으로 인식"
   ]
  },
  {
   "cell_type": "markdown",
   "metadata": {
    "colab_type": "text",
    "id": "L14aTzDENWv3"
   },
   "source": [
    "### 실습"
   ]
  },
  {
   "cell_type": "code",
   "execution_count": null,
   "metadata": {},
   "outputs": [],
   "source": [
    "# 1) gre, gpa 최대값을 담는 데이터프레임을 만드시오.\n",
    "\n",
    "\n",
    "# 2) gre, gpa 최소값을 담는 데이터프레임을 만드시오.\n",
    "\n",
    "\n",
    "# 3) 위 1),2) 데이터프레임을 조인해서 합치시오.\n",
    "\n",
    "\n"
   ]
  },
  {
   "cell_type": "markdown",
   "metadata": {
    "colab_type": "text",
    "id": "jdMTalYEHiAi"
   },
   "source": [
    "### Rolling\n",
    "rolling은 주로 시계열 데이터에 대해서 이동평균값을 구하거나, 행을 shift(이동) 시킬 때 주로 사용합니다!"
   ]
  },
  {
   "cell_type": "code",
   "execution_count": null,
   "metadata": {
    "colab": {},
    "colab_type": "code",
    "id": "Jpn93abYH_1j"
   },
   "outputs": [],
   "source": [
    "import pandas as pd"
   ]
  },
  {
   "cell_type": "code",
   "execution_count": null,
   "metadata": {
    "colab": {},
    "colab_type": "code",
    "id": "6XZbGn8AIMz7"
   },
   "outputs": [],
   "source": [
    "stock = pd.read_csv('shinhanFinance.csv', sep=',', skipinitialspace=True) \n",
    "stock.head()"
   ]
  },
  {
   "cell_type": "markdown",
   "metadata": {
    "colab_type": "text",
    "id": "YavSi4xWIy5U"
   },
   "source": [
    "Date 와 Close 가격만을 남깁니다."
   ]
  },
  {
   "cell_type": "code",
   "execution_count": null,
   "metadata": {
    "colab": {},
    "colab_type": "code",
    "id": "VoMpIZBHI3i3"
   },
   "outputs": [],
   "source": [
    "stock = stock[['Date', 'Close']]\n",
    "stock.head()"
   ]
  },
  {
   "cell_type": "markdown",
   "metadata": {
    "colab_type": "text",
    "id": "wob-9-ynKBLD"
   },
   "source": [
    "기준일 포함하여 과거 3일의 평균을 데이터 프레임에 붙여봅시다."
   ]
  },
  {
   "cell_type": "code",
   "execution_count": null,
   "metadata": {
    "colab": {},
    "colab_type": "code",
    "id": "jOVuKQfWJxKD"
   },
   "outputs": [],
   "source": [
    "stock['Close_MA_3'] = stock['Close'].rolling(3).mean()\n",
    "stock.head(10)"
   ]
  },
  {
   "cell_type": "code",
   "execution_count": null,
   "metadata": {
    "scrolled": true
   },
   "outputs": [],
   "source": [
    "stock['Close_MA_3_lag1'] = stock['Close_MA_3'].shift() # shift()안에 숫자를 변경해 보며 기능을 알아보자. default = 1\n",
    "stock.head(8)"
   ]
  },
  {
   "cell_type": "markdown",
   "metadata": {
    "colab_type": "text",
    "id": "ZFW4p8VeR557"
   },
   "source": [
    "min_periods를 기억하자"
   ]
  },
  {
   "cell_type": "code",
   "execution_count": null,
   "metadata": {
    "colab": {},
    "colab_type": "code",
    "id": "Cjn_ZMMLRt0_",
    "scrolled": true
   },
   "outputs": [],
   "source": [
    "stock['Close_MA_3(2)'] = stock['Close'].rolling(3, min_periods=1).mean()\n",
    "stock.head(8)"
   ]
  },
  {
   "cell_type": "markdown",
   "metadata": {
    "colab_type": "text",
    "id": "DwiHFEqoJ8Fw"
   },
   "source": [
    "기준일 포함하여 과거 3일 중 최대값은 어떨까요?"
   ]
  },
  {
   "cell_type": "code",
   "execution_count": null,
   "metadata": {
    "colab": {},
    "colab_type": "code",
    "id": "RM71ihOhKQuN",
    "scrolled": true
   },
   "outputs": [],
   "source": [
    "stock['Close_MM_3'] = stock['Close'].rolling(3).max()\n",
    "stock.head(10)"
   ]
  },
  {
   "cell_type": "markdown",
   "metadata": {
    "colab_type": "text",
    "id": "eJng0rEWKWTA"
   },
   "source": [
    "기준일을 포함하지 않은, 과거 3일의 평균을 붙인다면?"
   ]
  },
  {
   "cell_type": "markdown",
   "metadata": {
    "colab_type": "text",
    "id": "4aefGZ-GInlR"
   },
   "source": [
    "### 실습\n"
   ]
  },
  {
   "cell_type": "code",
   "execution_count": null,
   "metadata": {
    "colab": {},
    "colab_type": "code",
    "id": "b46u7om7LInB"
   },
   "outputs": [],
   "source": [
    "# 1) stock 옆에, 과거 3일의 최대값을 추가하세요.\n",
    "\n",
    "\n",
    "# 2) 기준일을 포함하지 않은, 과거 3일의 최대값을 추가하세요.\n",
    "\n"
   ]
  },
  {
   "cell_type": "markdown",
   "metadata": {},
   "source": [
    "### NaN값 찾고, 채우기"
   ]
  },
  {
   "cell_type": "code",
   "execution_count": null,
   "metadata": {},
   "outputs": [],
   "source": [
    "import pandas as pd\n",
    "import numpy as np\n",
    "\n",
    "df = pd.DataFrame(np.random.randn(10,6))\n",
    "# Make a few areas have NaN values\n",
    "df.iloc[1:3,1] = np.nan\n",
    "df.iloc[5,3] = np.nan\n",
    "df.iloc[7:9,5] = np.nan\n",
    "\n",
    "\n",
    "#values = {1: 0.5, 3: 1.5, 5: 2.5}\n",
    "#df.fillna(value=values)\n",
    "df"
   ]
  },
  {
   "cell_type": "markdown",
   "metadata": {},
   "source": [
    "#### NaN 값 찾기"
   ]
  },
  {
   "cell_type": "code",
   "execution_count": null,
   "metadata": {},
   "outputs": [],
   "source": [
    "df.isnull()"
   ]
  },
  {
   "cell_type": "code",
   "execution_count": null,
   "metadata": {},
   "outputs": [],
   "source": [
    "df.isnull().any()"
   ]
  },
  {
   "cell_type": "code",
   "execution_count": null,
   "metadata": {},
   "outputs": [],
   "source": [
    "df.isnull().sum()"
   ]
  },
  {
   "cell_type": "markdown",
   "metadata": {},
   "source": [
    "#### NaN 값 채우기"
   ]
  },
  {
   "cell_type": "code",
   "execution_count": null,
   "metadata": {},
   "outputs": [],
   "source": [
    "# NaN을 특정 값으로 채우기\n",
    "df.fillna(0)"
   ]
  },
  {
   "cell_type": "code",
   "execution_count": null,
   "metadata": {},
   "outputs": [],
   "source": [
    "values = {1: 0.5, 3: 1.5, 5: 2.5}\n",
    "df.fillna(value=values)"
   ]
  },
  {
   "cell_type": "code",
   "execution_count": null,
   "metadata": {},
   "outputs": [],
   "source": [
    "# 전 값으로 채우기\n",
    "print(df)\n",
    "print(df.fillna(method = 'ffill'))\n",
    "\n",
    "# 이후 값으로 채우려면, fillna(method='bfill' or 'backfill')"
   ]
  },
  {
   "cell_type": "markdown",
   "metadata": {},
   "source": [
    "<br>\n",
    "\n",
    "## 03. Pandas Dataframe with matplotlib "
   ]
  },
  {
   "cell_type": "markdown",
   "metadata": {},
   "source": [
    "### 1) 주가 이동평균선 만들고 날짜 축 기준으로 라인차트 그리기"
   ]
  },
  {
   "cell_type": "markdown",
   "metadata": {},
   "source": [
    "데이터를 불러와서 이동평균값을 계산하여 칼럼을 추가한다."
   ]
  },
  {
   "cell_type": "code",
   "execution_count": null,
   "metadata": {},
   "outputs": [],
   "source": [
    "stock = pd.read_csv('shinhanFinance.csv', sep=',', skipinitialspace=True) \n",
    "stock = stock[['Date', 'Close']]\n",
    "stock['Close_MA_5'] = stock['Close'].rolling(5).mean().shift(-1)\n",
    "stock['Close_MA_10'] = stock['Close'].rolling(10).mean().shift(-1)\n",
    "stock['Close_MA_20'] = stock['Close'].rolling(20).mean().shift(-1)\n",
    "\n",
    "stock.head(10)"
   ]
  },
  {
   "cell_type": "markdown",
   "metadata": {},
   "source": [
    "#### x축을 날짜로 지정하기 위해서는 두가지 작업을 해야 합니다.\n",
    "1) 날짜 칼럼을 to_datetime으로 형식을 변환하고, <br>\n",
    "2) 행의 인덱스로 지정한다."
   ]
  },
  {
   "cell_type": "code",
   "execution_count": null,
   "metadata": {},
   "outputs": [],
   "source": [
    "stock.dtypes"
   ]
  },
  {
   "cell_type": "code",
   "execution_count": null,
   "metadata": {
    "scrolled": false
   },
   "outputs": [],
   "source": [
    "# 1) to_datetime\n",
    "stock.Date = pd.to_datetime(stock.Date, format='%Y-%m-%d')\n",
    "stock.dtypes"
   ]
  },
  {
   "cell_type": "code",
   "execution_count": null,
   "metadata": {
    "colab": {},
    "colab_type": "code",
    "id": "fxDfNwkpRnaj",
    "scrolled": false
   },
   "outputs": [],
   "source": [
    "# 2) 날짜를 인덱스로.\n",
    "stock.set_index(['Date'],inplace=True)"
   ]
  },
  {
   "cell_type": "code",
   "execution_count": null,
   "metadata": {
    "scrolled": true
   },
   "outputs": [],
   "source": [
    "stock.head(20)"
   ]
  },
  {
   "cell_type": "code",
   "execution_count": null,
   "metadata": {},
   "outputs": [],
   "source": [
    "stock.plot(y='Close')  #x축은 인덱스값을 기본값으로 가져오므로 y축만 지정하면 된다."
   ]
  },
  {
   "cell_type": "code",
   "execution_count": null,
   "metadata": {},
   "outputs": [],
   "source": [
    "stock.plot(y=['Close','Close_MA_5']) #y축 칼럼을 여러개 지정하기"
   ]
  },
  {
   "cell_type": "code",
   "execution_count": null,
   "metadata": {
    "scrolled": false
   },
   "outputs": [],
   "source": [
    "stock.plot()   #전체칼럼 포함시키려면 모두 기본값으로 실행"
   ]
  },
  {
   "cell_type": "code",
   "execution_count": null,
   "metadata": {
    "scrolled": false
   },
   "outputs": [],
   "source": [
    "stock.plot(figsize = (10,8))    # 사이즈 키우려면 figsize에 가로,세로 값을 지정해주자."
   ]
  },
  {
   "cell_type": "markdown",
   "metadata": {},
   "source": [
    "### 2) Graduate School 지원 데이터를 이용하여 차트그리기"
   ]
  },
  {
   "cell_type": "code",
   "execution_count": null,
   "metadata": {
    "scrolled": false
   },
   "outputs": [],
   "source": [
    "# Loading CSV files\n",
    "graduate = pd.read_csv('Graduate_apply.csv', sep=',', skipinitialspace=True)  # skipinitialspace 구분자 양쪽 공백은 제거.\n",
    "graduate.head()"
   ]
  },
  {
   "cell_type": "markdown",
   "metadata": {},
   "source": [
    "#### ① GRE, GPA 분포 살펴보기"
   ]
  },
  {
   "cell_type": "markdown",
   "metadata": {},
   "source": [
    "먼저 히스토그램으로 살펴보자"
   ]
  },
  {
   "cell_type": "code",
   "execution_count": null,
   "metadata": {},
   "outputs": [],
   "source": [
    "# gre 전체 분포 살펴보기\n",
    "graduate.hist(column = 'gre', bins = 5) #bin의 개수를 조정하면서 분포를 살펴보자"
   ]
  },
  {
   "cell_type": "code",
   "execution_count": null,
   "metadata": {
    "scrolled": true
   },
   "outputs": [],
   "source": [
    "# 합격여부와 gre 점수와 관련이 있을까?\n",
    "graduate.hist(column = 'gre', by='admit', bins = 5)"
   ]
  },
  {
   "cell_type": "code",
   "execution_count": null,
   "metadata": {},
   "outputs": [],
   "source": [
    "# gpa 분포 살펴보기\n",
    "graduate.hist(column = 'gpa', bins = 5) #역시 bin의 개수를 조정하며 분포를 살펴보자"
   ]
  },
  {
   "cell_type": "code",
   "execution_count": null,
   "metadata": {
    "scrolled": true
   },
   "outputs": [],
   "source": [
    "# gpa 점수는 합격여부와 관련이 있을까?\n",
    "graduate.hist(column = 'gpa', by='admit', bins = 5)"
   ]
  },
  {
   "cell_type": "markdown",
   "metadata": {},
   "source": [
    "boxplot으로도 비교해보자"
   ]
  },
  {
   "cell_type": "code",
   "execution_count": null,
   "metadata": {},
   "outputs": [],
   "source": [
    "graduate.boxplot(column = 'gre', by='admit')"
   ]
  },
  {
   "cell_type": "code",
   "execution_count": null,
   "metadata": {
    "scrolled": false
   },
   "outputs": [],
   "source": [
    "graduate.boxplot(column = 'gpa', by='admit')"
   ]
  },
  {
   "cell_type": "markdown",
   "metadata": {},
   "source": [
    "gre와 gpa 점수가 합격여부와 열마나 관련이 있는지 통계적으로는 F-test를 통해서 값을 검정할 필요가 있습니다."
   ]
  },
  {
   "cell_type": "markdown",
   "metadata": {},
   "source": [
    "#### ② 대학 랭킹과 합격여부 살펴보기"
   ]
  },
  {
   "cell_type": "code",
   "execution_count": null,
   "metadata": {},
   "outputs": [],
   "source": [
    "# rank별 count 하기\n",
    "print(graduate['rank'].value_counts())\n",
    "print(graduate['rank'].value_counts().sort_index())"
   ]
  },
  {
   "cell_type": "code",
   "execution_count": null,
   "metadata": {},
   "outputs": [],
   "source": [
    "# 불합격자에 대해서 rank별 count 하기\n",
    "graduate[graduate['admit']== 0]['rank'].value_counts().sort_index()"
   ]
  },
  {
   "cell_type": "code",
   "execution_count": null,
   "metadata": {},
   "outputs": [],
   "source": [
    "# 합격자, 불합격자에 대해서 rank별 count 하기\n",
    "admit_0 = graduate[graduate['admit']== 0]['rank'].value_counts().sort_index()\n",
    "admit_1 = graduate[graduate['admit']== 1]['rank'].value_counts().sort_index()"
   ]
  },
  {
   "cell_type": "code",
   "execution_count": null,
   "metadata": {},
   "outputs": [],
   "source": [
    "# 합,불합격자 Series를 합쳐서 데이터프레임으로 만들기\n",
    "df = pd.DataFrame({'admit0':admit_0, 'admit1':admit_1})"
   ]
  },
  {
   "cell_type": "code",
   "execution_count": null,
   "metadata": {
    "scrolled": true
   },
   "outputs": [],
   "source": [
    "df.plot.bar()"
   ]
  },
  {
   "attachments": {},
   "cell_type": "markdown",
   "metadata": {},
   "source": [
    "범주형데이터와 범주형데이터가 관련이 있는지를 통계적으로 분석하기 위해서는 Chi-Square test를 통해서 검정해야 합니다."
   ]
  },
  {
   "cell_type": "markdown",
   "metadata": {},
   "source": [
    "#### ③ gre와 gpa는 어떤 관련이 있을까?"
   ]
  },
  {
   "cell_type": "code",
   "execution_count": null,
   "metadata": {
    "scrolled": true
   },
   "outputs": [],
   "source": [
    "graduate.plot.scatter('gre','gpa')"
   ]
  },
  {
   "cell_type": "markdown",
   "metadata": {},
   "source": [
    "연속형데이터와 연속형데이터가 관련이 있는지는 상관계수를 구해서 상관성을 살펴보게 됩니다."
   ]
  },
  {
   "cell_type": "markdown",
   "metadata": {},
   "source": [
    "<br>\n",
    "\n",
    "### 실습"
   ]
  },
  {
   "cell_type": "code",
   "execution_count": null,
   "metadata": {},
   "outputs": [],
   "source": [
    "# titanic_simple.csv파일을 불러와서 pandas dataframe 'titanic'으로 저장\n",
    "titanic = pd.read_csv('titanic_simple.csv', sep=',', skipinitialspace=True)\n",
    "titanic.head()\n",
    "\n",
    "# 1) 히스토그램을 이용하여 나이(Age)의 분포를 살펴봅시다.\n",
    "\n",
    "\n",
    "# 2) 생존여부(Survived)와 나이(Age)가 관련이 있는지 히스토그램을 그려봅시다.\n",
    "\n",
    "\n",
    "# 3)성별에 따른 생존여부를 확인하기 위한 bar chart를 그려봅시다.\n"
   ]
  },
  {
   "cell_type": "code",
   "execution_count": null,
   "metadata": {},
   "outputs": [],
   "source": []
  }
 ],
 "metadata": {
  "colab": {
   "collapsed_sections": [
    "DFijIAllYnVQ",
    "Bie5qwmkYnVT",
    "-RYoYWk-YnVc",
    "jPLYmNHQYnVy",
    "WUSoqSxcYnV5",
    "0kW6dzBFYnWW",
    "QiqL2q7spSvA",
    "0Cq3lmVb5oj2",
    "jdMTalYEHiAi"
   ],
   "name": "72.Pandas.ipynb",
   "provenance": [],
   "version": "0.3.2"
  },
  "kernelspec": {
   "display_name": "Python 3",
   "language": "python",
   "name": "python3"
  },
  "language_info": {
   "codemirror_mode": {
    "name": "ipython",
    "version": 3
   },
   "file_extension": ".py",
   "mimetype": "text/x-python",
   "name": "python",
   "nbconvert_exporter": "python",
   "pygments_lexer": "ipython3",
   "version": "3.7.0"
  }
 },
 "nbformat": 4,
 "nbformat_minor": 1
}
