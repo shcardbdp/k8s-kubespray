{
 "cells": [
  {
   "cell_type": "markdown",
   "metadata": {
    "colab_type": "text",
    "id": "z6cFcRvgUVsh"
   },
   "source": [
    "# 02. Numpy\n",
    "\n",
    "작성자 : 김정훈 <br>\n",
    "수정  : 한기영\n",
    "\n",
    "#### 주의 : 넘파이의 모든 것을 다루지 않습니다. Machine Learning 또는 Deep Learning을 공부하기 위해 최소한 알아야 하는 범위만을 다룹니다.\n",
    "\n",
    "### 넘파이 실습시간!\n",
    "\n",
    "Numpy는 데이터 과학을 위한 핵심 라이브러리입니다.\n",
    "고성능 다차원 배열과 배열 연산을 위한 유용한 도구를 제공합니다\n",
    "\n",
    "#### 선행지식\n",
    "1. Python 언어 기초.\n",
    "2. 행렬에 대한 이해와 약간의 수학적 지식.\n",
    "\n",
    "#### 실습목표\n",
    "1. numpy를 이용하여 다양한 모양(shape)의 행렬 array를 만들 수 있습니다. \n",
    "2. numpy를 이용하여 다양한 행렬 연산을 수행할 수 있습니다. \n",
    "3. 2-d 어레이(혹은 그 이상)를 만들기. \n",
    "4. 1-d array를 2-d array로 만들기. \n",
    "5. 행렬 간의 곱셈.\n",
    "6. csv파일 읽기. \n",
    "7. numpy array를 python list로 변환, python list를 numpy array로 변환\n",
    "8. array shuffle, split, sampling (복원/비복원 둘 다.)\n"
   ]
  },
  {
   "cell_type": "markdown",
   "metadata": {
    "colab_type": "text",
    "id": "FB4DtUU2UVsj"
   },
   "source": [
    "### 1. 라이브러리 불러오기\n",
    "\n",
    "numpy로 파일을 직접 부르기 보다는 \n",
    "pandas로 불러서 처리하고 필요시 numpy넘겨서 처리\n",
    "\n",
    "그러므로 numpy로 파일을 부르는 부분은 간단히 다룹니다"
   ]
  },
  {
   "cell_type": "code",
   "execution_count": null,
   "metadata": {
    "colab": {},
    "colab_type": "code",
    "id": "16QAg-RVUVsm"
   },
   "outputs": [],
   "source": [
    "import numpy as np\n",
    "data = np.genfromtxt(\"Graduate_apply.csv\", delimiter=\",\", names=True)\n",
    "print(type(data))\n",
    "print(data.shape)"
   ]
  },
  {
   "cell_type": "code",
   "execution_count": null,
   "metadata": {
    "colab": {},
    "colab_type": "code",
    "id": "SbM3NqkcUVso"
   },
   "outputs": [],
   "source": [
    "import numpy\n",
    "data1 = numpy.genfromtxt(\"Graduate_apply.csv\", delimiter=\",\", names=True)\n",
    "print(type(data1))\n",
    "print(data1.shape)"
   ]
  },
  {
   "cell_type": "code",
   "execution_count": null,
   "metadata": {
    "colab": {},
    "colab_type": "code",
    "id": "hZdioD2JUVsp"
   },
   "outputs": [],
   "source": [
    "from numpy import genfromtxt as ggg\n",
    "data2 = ggg(\"./Graduate_apply.csv\", delimiter=\",\", names=True)\n",
    "print(type(data2))\n",
    "print(data2.shape)"
   ]
  },
  {
   "cell_type": "code",
   "execution_count": null,
   "metadata": {},
   "outputs": [],
   "source": [
    "data2.dtype"
   ]
  },
  {
   "cell_type": "code",
   "execution_count": null,
   "metadata": {
    "colab": {},
    "colab_type": "code",
    "id": "rK6Me1EcadYS",
    "scrolled": true
   },
   "outputs": [],
   "source": [
    "# 어떻게 로딩되었는지 눈으로 한 번 보자!\n",
    "data2"
   ]
  },
  {
   "cell_type": "code",
   "execution_count": null,
   "metadata": {
    "colab": {},
    "colab_type": "code",
    "id": "qiiAYPt8UVsr",
    "scrolled": true
   },
   "outputs": [],
   "source": [
    "# 유용한 라이브러리\n",
    "import time\n",
    "\n",
    "print(time.perf_counter())"
   ]
  },
  {
   "cell_type": "markdown",
   "metadata": {
    "colab_type": "text",
    "id": "Cj80rqK-UVsw"
   },
   "source": [
    "## 01. Arrays 생성"
   ]
  },
  {
   "cell_type": "code",
   "execution_count": null,
   "metadata": {},
   "outputs": [],
   "source": [
    "# Numpy 배열 생성하기\n",
    "\n",
    "# rank 1 array 생성 ==> 익숙해지기 전까지는 사용하지 마라.\n",
    "a = np.array([1, 2, 3])\n",
    "print(type(a))            # \"<class 'numpy.ndarray'>\"\n",
    "print(a.shape)            # \"(3,)\"\n",
    "print(a[0], a[1], a[2])   # \"1 2 3\""
   ]
  },
  {
   "cell_type": "code",
   "execution_count": null,
   "metadata": {},
   "outputs": [],
   "source": [
    "# 값 변경\n",
    "a[0] = 5\n",
    "print(a)                  # \"[5, 2, 3]\""
   ]
  },
  {
   "cell_type": "code",
   "execution_count": null,
   "metadata": {
    "colab": {},
    "colab_type": "code",
    "id": "4Lko04zpUVsw"
   },
   "outputs": [],
   "source": [
    "# rank 2 array 생성 ==> rank 1 array도 이렇게 사용하라.\n",
    "b = np.array([[1, 2, 3], \n",
    "              [4, 5, 6]])\n",
    "print(b.shape)                     # \"(2, 3)\" (* 주의: 3x2 행렬)\n",
    "print(b[0, 0], b[0, 1], b[1, 0])   # \"1 2 4\"\n",
    "print(b)"
   ]
  },
  {
   "cell_type": "markdown",
   "metadata": {
    "colab_type": "text",
    "id": "YKLrScdJUVsz"
   },
   "source": [
    "### reshape\n",
    "\n",
    " 중요.!!"
   ]
  },
  {
   "cell_type": "code",
   "execution_count": null,
   "metadata": {},
   "outputs": [],
   "source": [
    "b = np.array([[1, 2, 3], \n",
    "              [4, 5, 6]])\n",
    "print(b)"
   ]
  },
  {
   "cell_type": "code",
   "execution_count": null,
   "metadata": {},
   "outputs": [],
   "source": [
    "test = np.zeros((2, 4, 3))"
   ]
  },
  {
   "cell_type": "code",
   "execution_count": null,
   "metadata": {},
   "outputs": [],
   "source": [
    "test.reshape(1,4,-1)"
   ]
  },
  {
   "cell_type": "code",
   "execution_count": null,
   "metadata": {},
   "outputs": [],
   "source": [
    "c = np.reshape(b, (3, 2))\n",
    "print(c.shape) \n",
    "print(c)"
   ]
  },
  {
   "cell_type": "code",
   "execution_count": null,
   "metadata": {},
   "outputs": [],
   "source": [
    "b.reshape(3,-1)"
   ]
  },
  {
   "cell_type": "code",
   "execution_count": null,
   "metadata": {
    "scrolled": true
   },
   "outputs": [],
   "source": [
    "# 64 * 64 * 3\n",
    "arr = np.zeros((64, 64, 3))\n",
    "print(arr.shape)\n",
    "print(arr)\n"
   ]
  },
  {
   "cell_type": "code",
   "execution_count": null,
   "metadata": {
    "colab": {},
    "colab_type": "code",
    "id": "AWkk6y5yUVsz"
   },
   "outputs": [],
   "source": [
    "b = arr.reshape(64 * 64, 3) \n",
    "print(b.shape)\n"
   ]
  },
  {
   "cell_type": "code",
   "execution_count": null,
   "metadata": {
    "scrolled": true
   },
   "outputs": [],
   "source": [
    "# -1\n",
    "c = arr.reshape(16, 16, -1) \n",
    "print(c.shape) \n",
    "# (64 * 64 * 3) / (16 * 16) = 48이므로 배열의 세 번째 차원의 크기는 48이 됩니다.\n",
    "print(c)"
   ]
  },
  {
   "cell_type": "markdown",
   "metadata": {},
   "source": [
    "### reshape 연습 : MNIST"
   ]
  },
  {
   "cell_type": "code",
   "execution_count": null,
   "metadata": {},
   "outputs": [],
   "source": [
    "import matplotlib.pylab as plt"
   ]
  },
  {
   "cell_type": "markdown",
   "metadata": {},
   "source": [
    "MNIST sample 100 28x28 dense.CSV 파일을 엑셀로 열어서 한번 살펴보자~!"
   ]
  },
  {
   "cell_type": "code",
   "execution_count": null,
   "metadata": {
    "scrolled": true
   },
   "outputs": [],
   "source": [
    "# MNIST 샘플 데이터를 불러오기\n",
    "mnist = np.genfromtxt(\"MNIST sample 100 28x28 dense.CSV\", delimiter=\",\", skip_header=True)\n",
    "print(type(mnist))\n",
    "print(mnist.shape)\n",
    "print(mnist)"
   ]
  },
  {
   "cell_type": "markdown",
   "metadata": {},
   "source": [
    "이 형태는 정리(전처리)가 잘 된 데이터 셋 이다. <br>\n",
    "첫번째 칼럼은 Label 이다. <br>\n",
    "각 행이 하나의 이미지 파일의 픽셀값을 일렬로 만들어 놓은 것."
   ]
  },
  {
   "cell_type": "code",
   "execution_count": null,
   "metadata": {},
   "outputs": [],
   "source": [
    "mnist_labels = mnist[:,0]  #첫 칼럼은 레이블로 모아두고\n",
    "mnist_pixels = mnist[:,1:] #나머지 칼럼(픽셀값들)을 따로 저장.\n",
    "\n",
    "print(mnist_pixels)"
   ]
  },
  {
   "cell_type": "code",
   "execution_count": null,
   "metadata": {},
   "outputs": [],
   "source": [
    "# 원본 이미지 형태로 픽셀을 reshape하여  mnist_pixels2에 담자.\n",
    "mnist_pixels2 = mnist_pixels.reshape([-1, 28,28])"
   ]
  },
  {
   "cell_type": "code",
   "execution_count": null,
   "metadata": {},
   "outputs": [],
   "source": [
    "# 특정 이미지의 픽셀값을 진짜 이미지로 나타내보자.\n",
    "image_no = 8\n",
    "print(mnist_labels[image_no])\n",
    "plt.imshow(mnist_pixels2[image_no, :, :])"
   ]
  },
  {
   "cell_type": "code",
   "execution_count": null,
   "metadata": {
    "scrolled": true
   },
   "outputs": [],
   "source": [
    "# 전체 다 가져올 거라면 2,3차원 생략 가능\n",
    "plt.imshow(mnist_pixels2[19])"
   ]
  },
  {
   "cell_type": "markdown",
   "metadata": {},
   "source": [
    "보통 CSV 파일은 Pandas로 불러와서 계산을 위해서 Numpy로 변환해서 진행합니다."
   ]
  },
  {
   "cell_type": "markdown",
   "metadata": {
    "colab_type": "text",
    "id": "R8TGtDceUVs1"
   },
   "source": [
    "### 여러가지 array 생성함수"
   ]
  },
  {
   "cell_type": "code",
   "execution_count": null,
   "metadata": {},
   "outputs": [],
   "source": [
    "# Numpy는 배열을 생성하는 다양한 함수를 제공합니다.\n",
    "\n",
    "# 0으로 채워진 array 생성\n",
    "a = np.zeros((2, 2))\n",
    "print(a)              # \"[[ 0.  0.]\n",
    "                      #   [ 0.  0.]]\""
   ]
  },
  {
   "cell_type": "code",
   "execution_count": null,
   "metadata": {},
   "outputs": [],
   "source": [
    "# 1로 채워진 array 생성\n",
    "b = np.ones((1, 2))\n",
    "print(b)              # \"[[ 1.  1.]]\""
   ]
  },
  {
   "cell_type": "code",
   "execution_count": null,
   "metadata": {},
   "outputs": [],
   "source": [
    "# 특정 값으로 채워진 array 생성\n",
    "c = np.full((2, 2), 7.)  \n",
    "print(c)               # \"[[ 7.  7.]\n",
    "                       #   [ 7.  7.]]\""
   ]
  },
  {
   "cell_type": "code",
   "execution_count": null,
   "metadata": {},
   "outputs": [],
   "source": [
    "# 2x2 단위 행렬(identity matrix) 생성\n",
    "d = np.eye(2)\n",
    "print(d)              # \"[[ 1.  0.]\n",
    "                      #   [ 0.  1.]]\""
   ]
  },
  {
   "cell_type": "code",
   "execution_count": null,
   "metadata": {
    "colab": {},
    "colab_type": "code",
    "id": "VTREtidPUVs2",
    "scrolled": true
   },
   "outputs": [],
   "source": [
    "# 랜덤값으로 채운 array 생성\n",
    "e = np.random.random((2, 2))\n",
    "print(e)"
   ]
  },
  {
   "cell_type": "markdown",
   "metadata": {},
   "source": [
    "Random number 설명\n",
    "\n",
    "https://docs.scipy.org/doc/numpy-1.15.1/reference/routines.random.html"
   ]
  },
  {
   "cell_type": "code",
   "execution_count": null,
   "metadata": {},
   "outputs": [],
   "source": [
    "# seed 값을 지정하면 항상 동일한 값으로 샘플링 됨.\n",
    "np.random.seed(1102)  # 값이 동일하면, 컴퓨터와 상관없이 동일한 샘플링\n",
    "e = np.random.random((2, 2))\n",
    "print(e)"
   ]
  },
  {
   "cell_type": "markdown",
   "metadata": {
    "colab_type": "text",
    "id": "jZQMeJKXUVs4"
   },
   "source": [
    "### 실습 : Arrays 생성"
   ]
  },
  {
   "cell_type": "code",
   "execution_count": null,
   "metadata": {
    "colab": {},
    "colab_type": "code",
    "id": "X-3lNlP4UVs5"
   },
   "outputs": [],
   "source": [
    "a = [1, 2, 3, 4, 5, 6]\n",
    "\n",
    "# 1) a를 가지고 numpy array np_01을 생성하시오\n",
    "\n",
    "\n",
    "# 2) np_01의 shape를 확인하시오.\n",
    "\n",
    "\n",
    "# 3) np_01의 shape를 (6, 1)로 변환하여 np_02에 넣으세요. \n",
    "\n",
    "\n",
    "# 4) np_01의 shape를 (1, 6)로 변환하여 np_03에 넣으세요. \n",
    "\n",
    "\n",
    "# np_01의 shape를 (-1, 2)로 변환하여 np_04에 넣으세요. \n",
    "\n",
    "\n",
    "# np_01, np_02, np_03, np_04의 모양을 출력하시고 shape와 실제 값의 모양을 확인하세요. \n",
    "\n",
    "\n",
    "# 랜덤값으로 채운 (28, 28) numpy array를 생성하여 np_sample 변수에 담으세요.\n",
    "\n",
    "\n"
   ]
  },
  {
   "cell_type": "markdown",
   "metadata": {
    "colab_type": "text",
    "id": "J00GVYYZUVs8"
   },
   "source": [
    "## 02. Array Indexing - Slice"
   ]
  },
  {
   "cell_type": "code",
   "execution_count": null,
   "metadata": {},
   "outputs": [],
   "source": [
    "import numpy as np\n",
    "score_2d = np.array([[78,91,84,89,93,65]\n",
    "                    ,[82,87,96,79,91,73]])"
   ]
  },
  {
   "cell_type": "code",
   "execution_count": null,
   "metadata": {},
   "outputs": [],
   "source": [
    "score_2d[0] >= 90"
   ]
  },
  {
   "cell_type": "code",
   "execution_count": null,
   "metadata": {},
   "outputs": [],
   "source": [
    "# array[row][column]\n",
    "score_2d[0][score_2d[0] >= 90]"
   ]
  },
  {
   "cell_type": "code",
   "execution_count": null,
   "metadata": {},
   "outputs": [],
   "source": [
    "# array[row, column]\n",
    "score_2d[0,score_2d[0] >= 90]"
   ]
  },
  {
   "cell_type": "code",
   "execution_count": null,
   "metadata": {},
   "outputs": [],
   "source": [
    "score_2d[1][score_2d[1] >= 90]"
   ]
  },
  {
   "cell_type": "code",
   "execution_count": null,
   "metadata": {},
   "outputs": [],
   "source": [
    "# 다음의 shape을 가지는 array 생성\n",
    "# [[ 1  2  3  4]\n",
    "#  [ 5  6  7  8]\n",
    "#  [ 9 10 11 12]]\n",
    "a = np.array([[1, 2, 3, 4], [5, 6, 7, 8], [9, 10, 11, 12]])\n",
    "# shape (3, 4) - 4x3 행렬\n",
    "a"
   ]
  },
  {
   "cell_type": "code",
   "execution_count": null,
   "metadata": {
    "colab": {},
    "colab_type": "code",
    "id": "PPT8J81eUVs8"
   },
   "outputs": [],
   "source": [
    "# Slice를 이용하여 하위 배열 잘라내기.\n",
    "# [[2 3]\n",
    "#  [6 7]]\n",
    "\n",
    "# ?에 올 내용은?\n",
    "b = a[?, ?]  \n",
    "print(b)"
   ]
  },
  {
   "cell_type": "code",
   "execution_count": null,
   "metadata": {},
   "outputs": [],
   "source": [
    "# 배열의 조각을 수정하면 원래 배열이 수정됩니다.\n",
    "print(a[0, 1])   # \"2\"\n",
    "b[0, 0] = 77     # b[0, 0] = a[0, 1]\n",
    "print(a[0, 1])   # \"77\""
   ]
  },
  {
   "cell_type": "code",
   "execution_count": null,
   "metadata": {},
   "outputs": [],
   "source": [
    "b_copy = a[0:2,0:2].copy() # 진짜 복사가 된다.\n",
    "print(b_copy)"
   ]
  },
  {
   "cell_type": "code",
   "execution_count": null,
   "metadata": {},
   "outputs": [],
   "source": [
    "# 다음의 shape을 가지는 array 생성\n",
    "a = np.array([[1, 2, 3, 4], [5, 6, 7, 8], [9, 10, 11, 12]])\n",
    "\n",
    "# 데이터에 액세스하는 두 가지 방법.\n",
    "\n",
    "# 행\n",
    "# 1. 정수 인덱스와 슬라이스를 섞으면 더 낮은 순위의 배열이 생성됩니다. \n",
    "row_r1 = a[1, :]             # Rank 1\n",
    "print(row_r1, row_r1.shape)  # \"[5 6 7 8] (4,)\""
   ]
  },
  {
   "cell_type": "code",
   "execution_count": null,
   "metadata": {},
   "outputs": [],
   "source": [
    "# 2. 슬라이스만 사용하면 원래 배열과 동일한 순위의 배열이 생성됩니다.\n",
    "row_r2 = a[1:2, :]           # Rank 2\n",
    "print(row_r2, row_r2.shape)  # \"[[5 6 7 8]] (1, 4)\""
   ]
  },
  {
   "cell_type": "code",
   "execution_count": null,
   "metadata": {},
   "outputs": [],
   "source": [
    "# 열\n",
    "col_r1 = a[:, 1]\n",
    "print(col_r1, col_r1.shape)  # \"[ 2  6 10] (3,)\""
   ]
  },
  {
   "cell_type": "code",
   "execution_count": null,
   "metadata": {
    "colab": {},
    "colab_type": "code",
    "id": "b4vHMt3XUVs_"
   },
   "outputs": [],
   "source": [
    "col_r2 = a[:, 1:2]\n",
    "print(col_r2, col_r2.shape)  # \"[[ 2]\n",
    "                             #   [ 6]\n",
    "                             #   [10]] (3, 1)\""
   ]
  },
  {
   "cell_type": "code",
   "execution_count": null,
   "metadata": {},
   "outputs": [],
   "source": [
    "# Integer array indexing\n",
    "a = np.array([[1, 2], [3, 4], [5, 6]])\n",
    "b = a[[0, 1, 2]]\n",
    "print(b)"
   ]
  },
  {
   "cell_type": "code",
   "execution_count": null,
   "metadata": {
    "colab": {},
    "colab_type": "code",
    "id": "8gruuHkgUVtC",
    "scrolled": false
   },
   "outputs": [],
   "source": [
    "# 실행하기 전에 아래 문장의 결과를 예상해보세요!\n",
    "print(a[[0, 1, 2], [0, 1, 0]])   "
   ]
  },
  {
   "cell_type": "code",
   "execution_count": null,
   "metadata": {},
   "outputs": [],
   "source": [
    "print(np.array([a[0, 0], a[1, 1], a[2, 0]]))"
   ]
  },
  {
   "cell_type": "code",
   "execution_count": null,
   "metadata": {},
   "outputs": [],
   "source": [
    "# 같은 위치 데이터를 여러번 사용할 수 있음\n",
    "# \"[2 2]\"\n",
    "print(a[[0, 0], [1, 1]])\n",
    "print(np.array([a[0, 1], a[0, 1]]))  "
   ]
  },
  {
   "cell_type": "code",
   "execution_count": null,
   "metadata": {
    "colab": {},
    "colab_type": "code",
    "id": "nSZScoYWUVtF"
   },
   "outputs": [],
   "source": [
    "a = np.array([[1, 2, 3], [4, 5, 6], [7, 8, 9], [10, 11, 12]])\n",
    "print(a)  # \"array([[ 1,  2,  3],\n",
    "          #         [ 4,  5,  6],\n",
    "          #         [ 7,  8,  9],\n",
    "          #         [10, 11, 12]])\"\n",
    "\n"
   ]
  },
  {
   "cell_type": "code",
   "execution_count": null,
   "metadata": {},
   "outputs": [],
   "source": [
    "# element 선택 방식\n",
    "b = np.arange(4)\n",
    "c = np.array([0, 2, 0, 1])\n",
    "print(b)\n",
    "print(c)\n",
    "print(a[b, c])  # \"[ 1  6  7 11]\""
   ]
  },
  {
   "cell_type": "code",
   "execution_count": null,
   "metadata": {},
   "outputs": [],
   "source": [
    "# 선택된 모든 element를 변경\n",
    "a[b, c] += 10\n",
    "\n",
    "print(a)  # prints \"array([[11,  2,  3],\n",
    "          #                [ 4,  5, 16],\n",
    "          #                [17,  8,  9],\n",
    "          #                [10, 21, 12]])"
   ]
  },
  {
   "cell_type": "code",
   "execution_count": null,
   "metadata": {
    "colab": {},
    "colab_type": "code",
    "id": "S4ixwAj6UVtH"
   },
   "outputs": [],
   "source": [
    "# Boolean array indexing\n",
    "\n",
    "a = np.array([[1, 2], [3, 4], [5, 6]])\n",
    "bool_idx = (a > 2)\n",
    "print(bool_idx)      # \"[[False False]\n",
    "                     #   [ True  True]\n",
    "                     #   [ True  True]]\""
   ]
  },
  {
   "cell_type": "code",
   "execution_count": null,
   "metadata": {
    "scrolled": false
   },
   "outputs": [],
   "source": [
    "print(a[bool_idx])  # \"[3 4 5 6]\"\n",
    "print(a[a > 2])     # \"[3 4 5 6]\""
   ]
  },
  {
   "cell_type": "markdown",
   "metadata": {
    "colab_type": "text",
    "id": "c5fyes7tUVtI"
   },
   "source": [
    "### 실습 : Arrays Indexing"
   ]
  },
  {
   "cell_type": "code",
   "execution_count": null,
   "metadata": {
    "colab": {},
    "colab_type": "code",
    "id": "enFua6rAUVtJ"
   },
   "outputs": [],
   "source": [
    "# 1) 다음의 shape을 가지는 numpy array를 생성하여 np_arr 변수에 담으세요\n",
    "# [[  1  2  3]\n",
    "#  [  4  5  6]\n",
    "#  [  7  8  9]\n",
    "#  [ 10 11 12]]\n",
    "\n",
    "\n",
    "# 2) np_arr의 shape를 확인하세요. \n",
    "\n",
    "\n",
    "# 3) np_arr의 3행의 데이터를 1차원 배열로 출력하세요.\n",
    "# [7 8 9]\n",
    "\n",
    "\n",
    "# 4) np_arr의 2열의 데이터를 1차원 배열로 출력하세요.\n",
    "# [2 5 8 11]\n",
    "\n",
    "\n",
    "# 5) 아래의 출력문이 어떤 값을 출력할 지 추측한 후에 결과를 확인하세요.\n",
    "\n",
    "\n",
    "\n",
    "# 6) 위의 실습에서 선택된 element 값을 모두 2배로 만드세요.\n",
    "\n",
    "\n",
    "\n",
    "# 7) np_arr을 출력해 봅니다.\n",
    "\n",
    "\n",
    "\n",
    "# np_arr의 element중에 3의 배수인 element만 찾습니다. (3의 배수 찾는 법: x % 3 == 0)\n",
    "\n",
    "\n"
   ]
  },
  {
   "cell_type": "markdown",
   "metadata": {
    "colab_type": "text",
    "id": "KiF6MXK8UVtM"
   },
   "source": [
    "## 03. Data 변환"
   ]
  },
  {
   "cell_type": "code",
   "execution_count": null,
   "metadata": {
    "colab": {},
    "colab_type": "code",
    "id": "uHeFLGshUVtM"
   },
   "outputs": [],
   "source": [
    "x = np.array([1, 2])\n",
    "print(x.dtype)             # \"int64\"\n",
    "\n",
    "x = np.array([1.0, 2.0])\n",
    "print(x.dtype)             #\"float64\""
   ]
  },
  {
   "cell_type": "code",
   "execution_count": null,
   "metadata": {},
   "outputs": [],
   "source": [
    "x = np.array([1.9, 2.0], dtype=np.int32)   # 강제로 데이터 형식 지정\n",
    "print(x.dtype)                         # \"int32\"\n",
    "print(x)"
   ]
  },
  {
   "cell_type": "markdown",
   "metadata": {},
   "source": [
    "int32 : –2,147,483,648 ~ 2,147,483,647 <br>\n",
    "int64 : –9,223,372,036,854,775,808 ~ 9,223,372,036,854,775,807"
   ]
  },
  {
   "cell_type": "code",
   "execution_count": null,
   "metadata": {},
   "outputs": [],
   "source": [
    "# Numpy Array\n",
    "x = np.array([1, 2])\n",
    "print(type(x))             # <class ‘numpy.ndarray’>"
   ]
  },
  {
   "cell_type": "code",
   "execution_count": null,
   "metadata": {
    "colab": {},
    "colab_type": "code",
    "id": "926go3WGUVtP"
   },
   "outputs": [],
   "source": [
    "# numpy.ndarray to list\n",
    "y = x.tolist()     # 종종 쓰인다. \n",
    "print(y)               # [1, 2]\n",
    "print(type(y))             # <class ‘list’>"
   ]
  },
  {
   "cell_type": "markdown",
   "metadata": {
    "colab_type": "text",
    "id": "v7cmzxq1UVtR"
   },
   "source": [
    "## 04. Array Math"
   ]
  },
  {
   "cell_type": "markdown",
   "metadata": {},
   "source": [
    "함수 그대로 사용하기. "
   ]
  },
  {
   "cell_type": "code",
   "execution_count": null,
   "metadata": {},
   "outputs": [],
   "source": [
    "x = np.array([[1, 2], [3, 4]], dtype=np.float64)\n",
    "y = np.array([[5, 6], [7, 8]], dtype=np.float64)"
   ]
  },
  {
   "cell_type": "code",
   "execution_count": null,
   "metadata": {},
   "outputs": [],
   "source": [
    "# array 더하기\n",
    "# [[ 6.0  8.0]\n",
    "#  [10.0 12.0]]\n",
    "print(x + y)\n",
    "print(np.add(x, y))"
   ]
  },
  {
   "cell_type": "code",
   "execution_count": null,
   "metadata": {},
   "outputs": [],
   "source": [
    "# array 빼기\n",
    "# [[-4.0 -4.0]\n",
    "#  [-4.0 -4.0]]\n",
    "print(x - y)\n",
    "print(np.subtract(x, y))"
   ]
  },
  {
   "cell_type": "code",
   "execution_count": null,
   "metadata": {},
   "outputs": [],
   "source": [
    "# array 곱하기\n",
    "# [[ 5.0 12.0]\n",
    "#  [21.0 32.0]]\n",
    "print(x * y)\n",
    "print(np.multiply(x, y))"
   ]
  },
  {
   "cell_type": "code",
   "execution_count": null,
   "metadata": {},
   "outputs": [],
   "source": [
    "# array 나누기\n",
    "# [[ 0.2         0.33333333]\n",
    "#  [ 0.42857143  0.5       ]]\n",
    "print(x / y)\n",
    "print(np.divide(x, y))"
   ]
  },
  {
   "cell_type": "code",
   "execution_count": null,
   "metadata": {
    "colab": {},
    "colab_type": "code",
    "id": "F2cPuK5ZUVtS"
   },
   "outputs": [],
   "source": [
    "# array 제곱근\n",
    "# [[ 1.          1.41421356]\n",
    "#  [ 1.73205081  2.        ]]\n",
    "print(np.sqrt(x))\n",
    "\n",
    "# array 제곱\n",
    "print(x ** 2)\n",
    "print(np.power(x, 2))\n"
   ]
  },
  {
   "cell_type": "code",
   "execution_count": null,
   "metadata": {},
   "outputs": [],
   "source": [
    "# List와 다른점\n",
    "height = [1.73, 1.68, 1.71, 1.89, 1.79]\n",
    "weight = [65.4, 59.2, 63.6, 88.4, 68.7]\n",
    "weight * height ** 2\n",
    "#TypeError: unsupported operand type(s) for **: 'list' and 'int'\n"
   ]
  },
  {
   "cell_type": "code",
   "execution_count": null,
   "metadata": {},
   "outputs": [],
   "source": [
    "np_height = np.array(height)\n",
    "np_weight = np.array(weight)\n",
    "np_weight / np_height ** 2\n",
    "#array([ 21.852, 20.975, 21.75 , 24.747, 21.441])"
   ]
  },
  {
   "cell_type": "code",
   "execution_count": null,
   "metadata": {},
   "outputs": [],
   "source": [
    "python_list = [1, 2, 3]\n",
    "numpy_array = np.array([1, 2, 3])\n",
    "\n",
    "python_list + python_list\n",
    "# [1, 2, 3, 1, 2, 3]"
   ]
  },
  {
   "cell_type": "code",
   "execution_count": null,
   "metadata": {},
   "outputs": [],
   "source": [
    "numpy_array + numpy_array\n",
    "# array([2, 4, 6])"
   ]
  },
  {
   "cell_type": "markdown",
   "metadata": {},
   "source": [
    "### 행렬 곱"
   ]
  },
  {
   "cell_type": "code",
   "execution_count": null,
   "metadata": {},
   "outputs": [],
   "source": [
    "# 행렬곱\n",
    "\n",
    "x = np.array([[1, 2], [3, 4]])\n",
    "y = np.array([[5, 6], [7, 8]])\n",
    "\n",
    "v = np.array([9, 10])\n",
    "w = np.array([11, 12])"
   ]
  },
  {
   "cell_type": "code",
   "execution_count": null,
   "metadata": {},
   "outputs": [],
   "source": [
    "# (1, 2) * (1, 2), 219\n",
    "print(9 * 11 + 10 * 12)\n",
    "print(v.dot(w))\n",
    "print(np.dot(v, w))"
   ]
  },
  {
   "cell_type": "code",
   "execution_count": null,
   "metadata": {},
   "outputs": [],
   "source": [
    "# (2, 2) * (1, 2), rank 2 array\n",
    "print(\"(1, 1): %d\" % (1 * 9 + 2 * 10))\n",
    "print(\"(1, 2): %d\" % (3 * 9 + 4 * 10))\n",
    "print(x.dot(v))\n",
    "print(np.dot(x, v))"
   ]
  },
  {
   "cell_type": "code",
   "execution_count": null,
   "metadata": {
    "colab": {},
    "colab_type": "code",
    "id": "pZqEw71kUVtT"
   },
   "outputs": [],
   "source": [
    "# (2, 2) * (2, 2), rank 2 array\n",
    "# [[19 22]\n",
    "#  [43 50]]\n",
    "print(\"(1, 1): %d\" % (1 * 5 + 2 * 7))\n",
    "print(\"(1, 2): %d\" % (1 * 6 + 2 * 8))\n",
    "print(\"(2, 1): %d\" % (3 * 5 + 4 * 7))\n",
    "print(\"(2, 2): %d\" % (3 * 6 + 4 * 8))\n",
    "print(x.dot(y))\n",
    "print(np.dot(x, y))"
   ]
  },
  {
   "cell_type": "code",
   "execution_count": null,
   "metadata": {
    "colab": {},
    "colab_type": "code",
    "id": "cpCAFljWUVtV"
   },
   "outputs": [],
   "source": [
    "x = np.array([[1, 2], [3, 4]])\n",
    "\n",
    "# 합산\n",
    "print(np.sum(x))          # \"10\"\n",
    "\n",
    "# 열 합산\n",
    "print(np.sum(x, axis=0))  # \"[4 6]\"\n",
    "\n",
    "# 행 합산\n",
    "print(np.sum(x, axis=1))  # \"[3 7]\""
   ]
  },
  {
   "cell_type": "code",
   "execution_count": null,
   "metadata": {},
   "outputs": [],
   "source": [
    "# 전치행렬\n",
    "\n",
    "x= np.array([1, 2, 3, 4], ndmin=2)\n",
    "print(x.T)"
   ]
  },
  {
   "cell_type": "code",
   "execution_count": null,
   "metadata": {
    "colab": {},
    "colab_type": "code",
    "id": "gjNY9204UVtW"
   },
   "outputs": [],
   "source": [
    "x = np.array([[1, 2], [3, 4]])\n",
    "print(x)    # \"[[1 2]\n",
    "            #   [3 4]]\"\n",
    "\n",
    "print(x.T)  # \"[[1 3]\n",
    "            #   [2 4]]\""
   ]
  },
  {
   "cell_type": "code",
   "execution_count": null,
   "metadata": {},
   "outputs": [],
   "source": [
    "x = np.array([1, 2, 3, 4], ndmin=2) # ndmin 없이 해보기, 없으면 1차원 array으로 만들어진다. 전치행렬이 동작하지 않는다.\n",
    "print(x)   \t    # \"[[1 2 3 4]]\"\n",
    "print(x.shape)  # (1, 4)\n",
    "\n",
    "# 전치 행렬\n",
    "print(x.T)  # \"[[1]\n",
    "            #   [2]\n",
    "            #   [3]\n",
    "            #   [4]]”\n",
    "            \n",
    "# rank 1 에서는 변화가 없음\n",
    "v = np.array([1,2,3])\n",
    "print(v)    # \"[1 2 3]\"\n",
    "print(v.T)  # \"[1 2 3]\""
   ]
  },
  {
   "cell_type": "markdown",
   "metadata": {
    "colab_type": "text",
    "id": "7vuhQeXAUVtY"
   },
   "source": [
    "### 실습 : 변환과 연산"
   ]
  },
  {
   "cell_type": "code",
   "execution_count": null,
   "metadata": {
    "colab": {},
    "colab_type": "code",
    "id": "JO0qaTN7UVtZ"
   },
   "outputs": [],
   "source": [
    "# 1) 랜덤값으로 채운 (4, 3) numpy array를 생성하여 rand 변수에 담으세요.\n",
    " \n",
    "\n",
    "# 2) rand를 출력하세요.\n",
    "\n",
    "\n",
    "# 3) rand를 열 방향으로 합산하세요.\n",
    "\n",
    "\n",
    "# 4) rand를 행 방향으로 합산하세요.\n",
    "\n",
    "\n",
    "# 5) rand의 전치 행렬을 출력하세요.\n"
   ]
  },
  {
   "cell_type": "markdown",
   "metadata": {
    "colab_type": "text",
    "id": "-1OWDcQDcI5A"
   },
   "source": [
    "## 06. Shuffle, Sampling, Split"
   ]
  },
  {
   "cell_type": "markdown",
   "metadata": {
    "colab_type": "text",
    "id": "zF05aVKdUVtm"
   },
   "source": [
    "### shuffle"
   ]
  },
  {
   "cell_type": "code",
   "execution_count": null,
   "metadata": {},
   "outputs": [],
   "source": [
    "data = np.genfromtxt(\"./Graduate_apply.csv\", delimiter=\",\", names=True)\n",
    "\n",
    "print(data[0:10])"
   ]
  },
  {
   "cell_type": "code",
   "execution_count": null,
   "metadata": {
    "colab": {
     "base_uri": "https://localhost:8080/",
     "height": 161
    },
    "colab_type": "code",
    "executionInfo": {
     "elapsed": 625,
     "status": "ok",
     "timestamp": 1529133316214,
     "user": {
      "displayName": "김정훈",
      "photoUrl": "//lh5.googleusercontent.com/-bxbnSTt8iBo/AAAAAAAAAAI/AAAAAAAAAC8/ZcYn9C1jc5w/s50-c-k-no/photo.jpg",
      "userId": "107887219599388888482"
     },
     "user_tz": -540
    },
    "id": "tyGN9LiXUVtn",
    "outputId": "0478d464-d605-48a2-8a30-94e731e94c02"
   },
   "outputs": [],
   "source": [
    "# Shuffle\n",
    "np.random.shuffle(data)\n",
    "\n",
    "print(data[0:10])"
   ]
  },
  {
   "cell_type": "markdown",
   "metadata": {
    "colab_type": "text",
    "id": "k5Z2NwwYcSHM"
   },
   "source": [
    "### sampling\n",
    "\n",
    "[여기참고](https://docs.scipy.org/doc/numpy-1.14.0/reference/generated/numpy.random.choice.html)"
   ]
  },
  {
   "cell_type": "code",
   "execution_count": null,
   "metadata": {
    "colab": {
     "base_uri": "https://localhost:8080/",
     "height": 71
    },
    "colab_type": "code",
    "executionInfo": {
     "elapsed": 626,
     "status": "ok",
     "timestamp": 1529133874981,
     "user": {
      "displayName": "김정훈",
      "photoUrl": "//lh5.googleusercontent.com/-bxbnSTt8iBo/AAAAAAAAAAI/AAAAAAAAAC8/ZcYn9C1jc5w/s50-c-k-no/photo.jpg",
      "userId": "107887219599388888482"
     },
     "user_tz": -540
    },
    "id": "WS4JeMRCcSC6",
    "outputId": "a0f81d83-d235-4b29-8d5f-c4224e7f07af"
   },
   "outputs": [],
   "source": [
    "?np.random.choice\n",
    "np.random.choice(data, 4)"
   ]
  },
  {
   "cell_type": "code",
   "execution_count": null,
   "metadata": {},
   "outputs": [],
   "source": [
    "# 복원추출 : 한번 뽑은 것을 다시 뽑을 수 있는 추출\n",
    "np.random.choice(np.array([0,1,2,3,4,5,6,7,8,9]), 4)"
   ]
  },
  {
   "cell_type": "code",
   "execution_count": null,
   "metadata": {},
   "outputs": [],
   "source": [
    "# 비복원추출 : 한번 뽑은 것을 다시 뽑을 수 없는 추출\n",
    "np.random.choice(np.array([0,1,2,3,4,5,6,7,8,9]), 4, replace = False)"
   ]
  },
  {
   "cell_type": "markdown",
   "metadata": {
    "colab_type": "text",
    "id": "tLW2zcpmUVtq"
   },
   "source": [
    "### split"
   ]
  },
  {
   "cell_type": "code",
   "execution_count": null,
   "metadata": {
    "colab": {},
    "colab_type": "code",
    "id": "1tkOOqI9UVts"
   },
   "outputs": [],
   "source": [
    "# Split\n",
    "s1, s2, s3, s4 = data[:100], data[100:200], data[200:300], data[300:]\n",
    "print(len(s1))\n",
    "print(s1)\n",
    "print(len(s2))\n",
    "print(len(s3))\n",
    "print(len(s4))"
   ]
  },
  {
   "cell_type": "markdown",
   "metadata": {
    "colab_type": "text",
    "id": "ujFBMTSEUVtt"
   },
   "source": [
    "### 실습 : Shuffle, Sampling, Split"
   ]
  },
  {
   "cell_type": "code",
   "execution_count": null,
   "metadata": {
    "colab": {},
    "colab_type": "code",
    "id": "99MKalAiUVtu"
   },
   "outputs": [],
   "source": [
    "# 1) ./Graduate_apply.csv 파일을 읽어서 apply 변수에 담으세요. \n",
    "\n",
    "\n",
    "# 2) apply의 element 갯수를 확인하세요. (400)\n",
    "\n",
    "\n",
    "# 3) apply의 데이터 중 0 ~ 300 까지의 행은 train 변수에, 300 ~ 마지막 까지의 행은 test 변수에 담으세요.\n",
    "\n",
    "\n",
    "# 4) train에 담겨있는 데이터를 suffle 한 후 상위 5개 데이터를 조회하시오.\n",
    "\n"
   ]
  },
  {
   "cell_type": "markdown",
   "metadata": {
    "colab_type": "text",
    "id": "C_rowriIUVtw"
   },
   "source": [
    "## Numpy Documentation\n",
    "\n",
    "This brief overview has touched on many of the important things that you need to know about numpy, but is far from complete. Check out the <a href=\"http://docs.scipy.org/doc/numpy/reference/\">numpy reference</a> to find out much more about numpy."
   ]
  }
 ],
 "metadata": {
  "colab": {
   "collapsed_sections": [
    "Tae5l6ABY89V",
    "FB4DtUU2UVsj",
    "Cj80rqK-UVsw",
    "J00GVYYZUVs8",
    "KiF6MXK8UVtM",
    "v7cmzxq1UVtR",
    "p3E0RUeXUVtb",
    "-1OWDcQDcI5A",
    "zF05aVKdUVtm"
   ],
   "name": "71.Numpy.ipynb",
   "provenance": [],
   "version": "0.3.2"
  },
  "kernelspec": {
   "display_name": "Python 3",
   "language": "python",
   "name": "python3"
  },
  "language_info": {
   "codemirror_mode": {
    "name": "ipython",
    "version": 3
   },
   "file_extension": ".py",
   "mimetype": "text/x-python",
   "name": "python",
   "nbconvert_exporter": "python",
   "pygments_lexer": "ipython3",
   "version": "3.7.0"
  }
 },
 "nbformat": 4,
 "nbformat_minor": 1
}
